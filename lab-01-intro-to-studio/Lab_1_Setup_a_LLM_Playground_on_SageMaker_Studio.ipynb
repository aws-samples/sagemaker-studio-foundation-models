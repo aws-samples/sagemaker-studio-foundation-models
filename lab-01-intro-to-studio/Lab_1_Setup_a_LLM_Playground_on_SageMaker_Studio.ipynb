{
 "cells": [
  {
   "cell_type": "markdown",
   "id": "d780de3a-f72e-42a8-a51d-942297ec149a",
   "metadata": {},
   "source": [
    "<div style=\"background-color: #FFDDDD; border-left: 5px solid red; padding: 10px; color: black;\">\n",
    "    <strong>Kernel: Python 3 (ipykernel)\n",
    "</div>"
   ]
  },
  {
   "cell_type": "markdown",
   "id": "5d1697f4-24f3-4c1b-99d2-fa89a3340a1e",
   "metadata": {},
   "source": [
    "## Lab 1: Setup a LLM Playground on SageMaker Studio\n",
    "\n",
    "---"
   ]
  },
  {
   "cell_type": "markdown",
   "id": "e4ca32fa-e8ae-4820-8107-58fbaa910953",
   "metadata": {},
   "source": [
    "__Large Language Model (LLM) with `Llama2`, `LangChain`, and `Streamlit`.__\n",
    "\n",
    "In this lab, we learn how to use SageMaker to download, provision, and send prompts to a Large Language Model, `Llama 2`. We create an agent using `LangChain`, and tie everything together by creating a UI and text input using `Streamlit` to make our own hosted chatbot interface."
   ]
  },
  {
   "cell_type": "markdown",
   "id": "e978109e-a89a-4a35-9ce4-0c9062a30ecd",
   "metadata": {},
   "source": [
    "## Contents\n",
    "\n",
    "- [Model License information](#Model-License-information)\n",
    "- [Download and host Llama2 model](#Download-and-host-Llama2-model)\n",
    "  - [Set up](#Set-up)\n",
    "- [Sending prompts](#Sending-prompts)\n",
    "  - [Supported Parameters](#Supported-Parameters)\n",
    "  - [Notes](#Notes)\n",
    "- [Building an agent with LangChain](#Building-an-agent-with-LangChain)\n",
    "- [LangChain Tools](#LangChain-Tools)\n",
    "- [Developing and deploying the UI with Streamlit](#Developing-and-deploying-the-UI-with-Streamlit)\n",
    "- [Tearing down resources](#Tearing-down-resources)"
   ]
  },
  {
   "cell_type": "markdown",
   "id": "88c309ff-c81e-4cf0-915b-a2ff544bd634",
   "metadata": {},
   "source": [
    "### Model License information\n",
    "---\n",
    "\n",
    "To perform inference on these models, you need to pass `custom_attributes='accept_eula=true'` as part of header. This means you have read and accept the end-user-license-agreement (EULA) of the model. EULA can be found in model card description or from https://ai.meta.com/resources/models-and-libraries/llama-downloads/. By default, this notebook sets `custom_attribute='accept_eula=false'`, so all inference requests will fail until you explicitly change this custom attribute.\n",
    "\n",
    "Note: Custom_attributes used to pass EULA are key/value pairs. The key and value are separated by `'='` and pairs are separated by `';'`. If the user passes the same key more than once, the last value is kept and passed to the script handler (i.e., in this case, used for conditional logic). For example, if `'accept_eula=false; accept_eula=true'` is passed to the server, then `'accept_eula=true'` is kept and passed to the script handler.\n",
    "\n",
    "---"
   ]
  },
  {
   "cell_type": "code",
   "execution_count": null,
   "id": "200c188f-ec7d-4153-99ca-2c4fc4e98731",
   "metadata": {
    "tags": []
   },
   "outputs": [],
   "source": [
    "from ipywidgets import Dropdown\n",
    "\n",
    "eula_dropdown = Dropdown(\n",
    "    options=[\"True\", \"False\"],\n",
    "    value=\"False\",\n",
    "    description=\"**Please accept Llama2 EULA to continue:**\",\n",
    "    style={\"description_width\": \"initial\"},\n",
    "    layout={\"width\": \"max-content\"},\n",
    ")\n",
    "display(eula_dropdown)"
   ]
  },
  {
   "cell_type": "code",
   "execution_count": null,
   "id": "fd75c6c5-2001-47a8-b240-f551158bdabb",
   "metadata": {},
   "outputs": [],
   "source": [
    "custom_attribute = f'accept_eula={eula_dropdown.value.lower()}'\n",
    "print(f\"Your Llama2 EULA attribute is set to:\", custom_attribute)"
   ]
  },
  {
   "cell_type": "markdown",
   "id": "fb7d3993-b223-4dd1-aee1-2ce645ead120",
   "metadata": {},
   "source": [
    "### Connect to a Hosted Llama2 Model\n",
    "---\n",
    "\n",
    "#### Set up\n",
    "\n",
    "We begin by installing and upgrading necessary packages. Restart the kernel after executing the cell below for the first time."
   ]
  },
  {
   "cell_type": "code",
   "execution_count": null,
   "id": "f4d4a742-3d41-4e80-a99f-c6cc345ea93d",
   "metadata": {
    "tags": []
   },
   "outputs": [],
   "source": [
    "!pip install --upgrade langchain  typing_extensions==4.7.1 streamlit wikipedia -q"
   ]
  },
  {
   "cell_type": "code",
   "execution_count": null,
   "id": "88a3ed67-f60d-4b54-bdb2-eb6c8bc3f26c",
   "metadata": {
    "tags": []
   },
   "outputs": [],
   "source": [
    "from IPython.display import display, Markdown"
   ]
  },
  {
   "cell_type": "markdown",
   "id": "09e95e69-598b-46a5-985a-3c49f51f06ad",
   "metadata": {},
   "source": [
    "#### Connect to an Hosted Llama2 Model"
   ]
  },
  {
   "cell_type": "code",
   "execution_count": null,
   "id": "a1d666a5",
   "metadata": {
    "tags": []
   },
   "outputs": [],
   "source": [
    "endpoint_name = \"meta-llama2-13b-neuron-chat-tg-ep\" \n",
    "boto_region = \"us-west-2\""
   ]
  },
  {
   "cell_type": "code",
   "execution_count": null,
   "id": "7b3227db",
   "metadata": {
    "tags": []
   },
   "outputs": [],
   "source": [
    "import boto3\n",
    "import sagemaker\n",
    "from sagemaker import serializers, deserializers\n",
    "\n",
    "sess = sagemaker.session.Session(boto_session=boto3.Session(region_name=boto_region))\n",
    "smr_client = boto3.client(\"sagemaker-runtime\", region_name=boto_region)\n",
    "\n",
    "pretrained_predictor = sagemaker.Predictor(\n",
    "    endpoint_name=endpoint_name,\n",
    "    sagemaker_session=sess,\n",
    "    serializer=serializers.JSONSerializer(),\n",
    "    deserializer=deserializers.JSONDeserializer(),\n",
    ")"
   ]
  },
  {
   "cell_type": "markdown",
   "id": "543d54d9-447e-4f95-9ae2-2aafdd99c0c2",
   "metadata": {
    "tags": []
   },
   "source": [
    "### Sending prompts\n",
    "---"
   ]
  },
  {
   "cell_type": "markdown",
   "id": "7e64ac3c-0974-419a-8ad6-1f360c812d50",
   "metadata": {},
   "source": [
    "Next, we invoke the endpoint hosting our Llama 2 LLM with some queries. To guess the best results, however, it is important to be aware of the adjustable parameters of this model."
   ]
  },
  {
   "cell_type": "markdown",
   "id": "aeccd9af-d022-4126-afa2-303eee5da85a",
   "metadata": {
    "tags": []
   },
   "source": [
    "#### Supported Parameters\n",
    "This model supports the following inference payload parameters:\n",
    "\n",
    "* **max_new_tokens:** Model generates text until the output length (excluding the input context length) reaches max_new_tokens. If specified, it must be a positive integer.\n",
    "* **temperature:** Controls the randomness in the output. Higher temperature results in output sequence with low-probability words and lower temperature results in output sequence with high-probability words. If `temperature` -> 0, it results in greedy decoding. If specified, it must be a positive float.\n",
    "* **top_p:** In each step of text generation, sample from the smallest possible set of words with cumulative probability `top_p`. If specified, it must be a float between 0 and 1.\n",
    "\n",
    "We'll begin with 512, 0.9, and 0.6 for these respectively, though feel free to alter these are we do to see how this may affect the LLM output.\n",
    "\n",
    "You may specify any subset of the parameters mentioned above while invoking an endpoint. \n",
    "\n",
    "#### Notes\n",
    "- If `max_new_tokens` is not defined, the model may generate up to the maximum total tokens allowed, which is 4K for these models. This may result in endpoint query timeout errors, so it is recommended to set `max_new_tokens` when possible. For 7B, 13B, and 70B models, we recommend to set `max_new_tokens` no greater than 1500, 1000, and 500 respectively, while keeping the total number of tokens less than 4K.\n",
    "- In order to support a 4k context length, this model has restricted query payloads to only utilize a batch size of 1. Payloads with larger batch sizes will receive an endpoint error prior to inference.\n",
    "- This model only supports 'system', 'user' and 'assistant' roles, starting with 'system', then 'user' and alternating (u/a/u/a/u...)."
   ]
  },
  {
   "cell_type": "code",
   "execution_count": null,
   "id": "f74c26e1-e8a8-42b8-8af9-f2674ff2181c",
   "metadata": {
    "tags": []
   },
   "outputs": [],
   "source": [
    "def set_llama2_params(\n",
    "    max_new_tokens=1000,\n",
    "    top_p=0.9,\n",
    "    temperature=0.6,\n",
    "):\n",
    "    \"\"\" set Llama2 parameters \"\"\"\n",
    "    llama2_params = {}\n",
    "    \n",
    "    llama2_params['max_new_tokens'] = max_new_tokens\n",
    "    llama2_params['top_p'] = top_p\n",
    "    llama2_params['temperature'] = temperature\n",
    "    return llama2_params"
   ]
  },
  {
   "cell_type": "code",
   "execution_count": null,
   "id": "69ed9015-86a6-4c8e-aca5-6e53c252cfec",
   "metadata": {
    "tags": []
   },
   "outputs": [],
   "source": [
    "def print_dialog(inputs, payload, response):\n",
    "    dialog_output = []\n",
    "    for msg in inputs:\n",
    "        dialog_output.append(f\"**{msg['role'].upper()}**: {msg['content']}\\n\")\n",
    "    dialog_output.append(f\"**ASSISTANT**: {response['generated_text']}\")\n",
    "    dialog_output.append(\"\\n---\\n\")\n",
    "    \n",
    "    display(Markdown('\\n'.join(dialog_output)))"
   ]
  },
  {
   "cell_type": "code",
   "execution_count": null,
   "id": "8fa6d0c7-5b37-4725-864d-80ea7873b6f4",
   "metadata": {
    "tags": []
   },
   "outputs": [],
   "source": [
    "from typing import Dict, List\n",
    "\n",
    "def format_messages(messages: List[Dict[str, str]]) -> List[str]:\n",
    "    \"\"\"\n",
    "    Format messages for Llama-2 chat models.\n",
    "    \n",
    "    The model only supports 'system', 'user' and 'assistant' roles, starting with 'system', then 'user' and \n",
    "    alternating (u/a/u/a/u...). The last message must be from 'user'.\n",
    "    \"\"\"\n",
    "    prompt: List[str] = []\n",
    "\n",
    "    if messages[0][\"role\"] == \"system\":\n",
    "        content = \"\".join([\"<<SYS>>\\n\", messages[0][\"content\"], \"\\n<</SYS>>\\n\\n\", messages[1][\"content\"]])\n",
    "        messages = [{\"role\": messages[1][\"role\"], \"content\": content}] + messages[2:]\n",
    "    for user, answer in zip(messages[::2], messages[1::2]):\n",
    "        prompt.extend([\"<s>\", \"[INST] \", (user[\"content\"]).strip(), \" [/INST] \", (answer[\"content\"]).strip(), \"</s>\"])\n",
    "    prompt.extend([\"<s>\", \"[INST] \", (messages[-1][\"content\"]).strip(), \" [/INST] \"])\n",
    "    return \"\".join(prompt)\n",
    "    \n",
    "def send_prompt(params, prompt, instruction=\"\"):\n",
    "    \n",
    "    custom_attributes=custom_attribute\n",
    "\n",
    "    # default 'system', 'user' and 'assistant' prompt format\n",
    "    base_input = [\n",
    "        {\"role\": \"system\", \"content\": instruction},\n",
    "        {\"role\": \"user\", \"content\": prompt},\n",
    "    ]\n",
    "    # convert s/u/a format all-string <<SYS>> [INST] prompt format\n",
    "    optz_input = format_messages(base_input)\n",
    "\n",
    "    payload = {\n",
    "        \"inputs\": optz_input,\n",
    "        \"parameters\": params\n",
    "    }\n",
    "    response = pretrained_predictor.predict(payload, custom_attributes=custom_attribute)\n",
    "    print_dialog(base_input, payload, response)\n",
    "    return payload, response"
   ]
  },
  {
   "cell_type": "markdown",
   "id": "ddaf6cc8-d3ae-4d66-96b4-83c6a688120f",
   "metadata": {},
   "source": [
    "With functions defined for the printing of the dialog and the prompt sending, let's begin sending queries to our Llama 2 LLM!\n",
    "\n",
    "Note that we can also adjust the parameters supplied of the model, which we do by altering the `top_p parameter`."
   ]
  },
  {
   "cell_type": "code",
   "execution_count": null,
   "id": "fa756656-460e-4b22-bd8f-7a5a9beff415",
   "metadata": {
    "tags": []
   },
   "outputs": [],
   "source": [
    "%%time\n",
    "params = set_llama2_params(top_p=0.4)\n",
    "payload, response = send_prompt(params, prompt=\"What is the recipe of a pumpkin pie?\")"
   ]
  },
  {
   "cell_type": "code",
   "execution_count": null,
   "id": "7f17ee20-1e48-4069-af69-f22ccc37c016",
   "metadata": {
    "tags": []
   },
   "outputs": [],
   "source": [
    "%%time\n",
    "params = set_llama2_params(top_p=0.6)\n",
    "payload, response = send_prompt(params, prompt=\"How do I learn to play the guitar?\", instruction=\"always answer with Haiku\")"
   ]
  },
  {
   "cell_type": "code",
   "execution_count": null,
   "id": "75b17e6c-4366-4b28-8427-0f6017697c0b",
   "metadata": {
    "tags": []
   },
   "outputs": [],
   "source": [
    "%%time\n",
    "params = set_llama2_params(top_p=0.8)\n",
    "payload, response = send_prompt(params, prompt=\"What's a good strategy for chess?\", instruction=\"always answer with emojis\")"
   ]
  },
  {
   "cell_type": "code",
   "execution_count": null,
   "id": "c7a7140f-aba9-4466-89ef-39569f1f73e5",
   "metadata": {
    "tags": []
   },
   "outputs": [],
   "source": [
    "%%time\n",
    "params = set_llama2_params(top_p=0.6)\n",
    "tokyo_payload, tokyo_response = send_prompt(params, prompt=\"What are the top 5 things to do in Tokyo?\")"
   ]
  },
  {
   "cell_type": "markdown",
   "id": "37ba9ead-8c0d-448b-96eb-525e19239860",
   "metadata": {},
   "source": [
    "Because we are interacting with the llama2 **chat** LLM, we can input a previous prompt with a further question in a conversation manner. \n",
    "\n",
    "Also, because we are capturing the payload and response for each inference to our endpoint, we can feed this back into our LLM as part of our next prompt, in order to continue the conversation. In the following output we can see the requests and repsonses from the user, and the assistant:"
   ]
  },
  {
   "cell_type": "code",
   "execution_count": null,
   "id": "34179c7a-7f2d-4392-a404-d8fb026af9ca",
   "metadata": {
    "tags": []
   },
   "outputs": [],
   "source": [
    "%%time\n",
    "base_input = [\n",
    "    {\n",
    "        \"role\": \"user\", \n",
    "        \"content\": \"What are the top 5 things to do in Tokyo?\"},\n",
    "    {\n",
    "        \"role\": \"assistant\",\n",
    "        \"content\": tokyo_response['generated_text'],\n",
    "    },\n",
    "    {\n",
    "        \"role\": \"user\", \n",
    "        \"content\": \"What is so great about #1?\"  # <<---- Your follow up question here!\n",
    "    },\n",
    "]\n",
    "optz_input = format_messages(base_input)\n",
    "\n",
    "payload = {\n",
    "    \"inputs\": optz_input,\n",
    "    \"parameters\": {\"max_new_tokens\": 512, \"top_p\": 0.9, \"temperature\": 0.6}\n",
    "}\n",
    "response = pretrained_predictor.predict(payload, custom_attributes=custom_attribute)\n",
    "print_dialog(base_input, payload, response)"
   ]
  },
  {
   "cell_type": "markdown",
   "id": "6e52bc81-276b-46ef-99ce-dbad16d67219",
   "metadata": {},
   "source": [
    "---\n",
    "### Building an agent with LangChain\n",
    "---"
   ]
  },
  {
   "cell_type": "markdown",
   "id": "0a072df6-54f4-4a89-9a99-d1621db93d48",
   "metadata": {},
   "source": [
    "We now have a LLM that can continue conversations in a chat interface! However, there is a more effective option than manually capturing the request and response for each inference request and feeding this back into the model.\n",
    "\n",
    "[LangChain](https://www.langchain.com/) is a framework that helps us simplify this process. We can use LangChain to send prompts to our LLM, store chat histroy, and feed this back into the model in order to have a conversation.\n",
    "\n",
    "LangChain also allows us to define a content header to transform the inputs and outputs to the LLM, which we will do in the next cell."
   ]
  },
  {
   "cell_type": "code",
   "execution_count": null,
   "id": "b99ae448-4543-486d-b239-78dda69b5d86",
   "metadata": {
    "tags": []
   },
   "outputs": [],
   "source": [
    "from typing import Dict\n",
    "from langchain.llms import SagemakerEndpoint\n",
    "from langchain.llms.sagemaker_endpoint import LLMContentHandler\n",
    "\n",
    "class ContentHandler(LLMContentHandler):\n",
    "    content_type = \"application/json\"\n",
    "    accepts = \"application/json\"\n",
    "\n",
    "    def transform_input(self, prompt, model_kwargs):\n",
    "        base_input = [{\"role\" : \"user\", \"content\" : prompt}]\n",
    "        optz_input = format_messages(base_input)\n",
    "        input_str = json.dumps({\n",
    "            \"inputs\" : optz_input, \n",
    "            \"parameters\" : {**model_kwargs}\n",
    "        })\n",
    "        return input_str.encode('utf-8')\n",
    "    \n",
    "    def transform_output(self, output):\n",
    "        response_json = json.loads(output.read().decode(\"utf-8\"))\n",
    "        return response_json[\"generated_text\"]"
   ]
  },
  {
   "cell_type": "markdown",
   "id": "89cda634-f183-47f8-8657-c50538f5e97a",
   "metadata": {},
   "source": [
    "We can then pass the SageMaker endpoint we previoiusly provisioned into a LangChain `SageMaker Endpoint` object, which allows LangChain to interact with out Llama 2 LLM. We are also passing in parameters which we defined previously."
   ]
  },
  {
   "cell_type": "code",
   "execution_count": null,
   "id": "d5eeff19-1f21-4e53-b866-0a03df3676a1",
   "metadata": {
    "tags": []
   },
   "outputs": [],
   "source": [
    "import json\n",
    "from sagemaker import session\n",
    "\n",
    "content_handler = ContentHandler()\n",
    "\n",
    "llm=SagemakerEndpoint(\n",
    "     endpoint_name=pretrained_predictor.endpoint_name, \n",
    "     region_name=session.Session().boto_region_name, \n",
    "     model_kwargs={\"max_new_tokens\": 700, \"top_p\": 0.9, \"temperature\": 0.6},\n",
    "     endpoint_kwargs={\"CustomAttributes\": custom_attribute},\n",
    "     content_handler=content_handler\n",
    " )"
   ]
  },
  {
   "cell_type": "markdown",
   "id": "93c06a94-ff1c-48c7-8257-e104fdf23827",
   "metadata": {},
   "source": [
    "We can now create a chat prompt template that LangChain will pass to our LLM. The LangChain [ChatPromptTemplate](https://python.langchain.com/docs/modules/model_io/prompts/prompt_templates/#chatprompttemplate) object allows us to do this.\n",
    "\n",
    "We also have [ConversationBufferMemory](https://api.python.langchain.com/en/latest/memory/langchain.memory.buffer.ConversationBufferMemory.html) and [LLMChain](https://docs.langchain.com/docs/components/chains/llm-chain) objects. The former allows to store the conversation memory, and the latter brings together the Chat Prompt Template, LLM, and Conversation Buffer Memory. We also set `verbose` to `True`, allowing us, in this case, to see the conversation history up until this point."
   ]
  },
  {
   "cell_type": "code",
   "execution_count": null,
   "id": "37e00237-6040-4a13-9992-563d3c74a112",
   "metadata": {
    "tags": []
   },
   "outputs": [],
   "source": [
    "from langchain.prompts import (\n",
    "    ChatPromptTemplate,\n",
    "    MessagesPlaceholder,\n",
    "    SystemMessagePromptTemplate,\n",
    "    HumanMessagePromptTemplate,\n",
    ")\n",
    "from langchain.chains import LLMChain\n",
    "from langchain.memory import ConversationBufferMemory\n",
    "\n",
    "# Prompt \n",
    "prompt = ChatPromptTemplate(\n",
    "    messages=[\n",
    "        SystemMessagePromptTemplate.from_template(\n",
    "            \"Assistant is a chatbot having a conversation with a human. Assistant is informative and polite, and only answers the question asked.\"\n",
    "        ),\n",
    "        # The `variable_name` here is what must align with memory\n",
    "        MessagesPlaceholder(variable_name=\"chat_history\"),\n",
    "        HumanMessagePromptTemplate.from_template(\"{question}\")\n",
    "    ]\n",
    ")\n",
    "\n",
    "# Notice that we set`return_messages=True` to fit into the MessagesPlaceholder\n",
    "# Notice that `\"chat_history\"` aligns with the MessagesPlaceholder name\n",
    "memory = ConversationBufferMemory(memory_key=\"chat_history\",return_messages=True)\n",
    "conversation = LLMChain(\n",
    "    llm=llm,\n",
    "    prompt=prompt,\n",
    "    verbose=True,\n",
    "    memory=memory\n",
    ")"
   ]
  },
  {
   "cell_type": "markdown",
   "id": "d91bcec1-bf84-4c2c-bee0-a4ef0e613e5f",
   "metadata": {},
   "source": [
    "Now we have our conversation LLM Chain, LangChain will pass our query, as well as the history and chat prompt template, to the LLM. This is great for a chatbot interface, as we'll demonstrate now. For each of the following three cells' output, you'll notice the conversation history after the text `Entering new LLMChain chain...`, and the query response after `Finished chain.`"
   ]
  },
  {
   "cell_type": "code",
   "execution_count": null,
   "id": "151d3c37-ef28-4352-8319-d83344d6803a",
   "metadata": {
    "tags": []
   },
   "outputs": [],
   "source": [
    "# Notice that we just pass in the `question` variables - `chat_history` gets populated by memory\n",
    "def simple_conversation(question):\n",
    "    print(conversation({\"question\": question})['text'])"
   ]
  },
  {
   "cell_type": "code",
   "execution_count": null,
   "id": "5bf54e80-cdd2-4244-b8f5-846a58c8698b",
   "metadata": {
    "tags": []
   },
   "outputs": [],
   "source": [
    "simple_conversation('hi!')"
   ]
  },
  {
   "cell_type": "code",
   "execution_count": null,
   "id": "d87fe2ce-8129-4ed8-b2f7-39588d6e9429",
   "metadata": {
    "tags": []
   },
   "outputs": [],
   "source": [
    "simple_conversation(\"How can I travel from New York to Los Angeles?\")"
   ]
  },
  {
   "cell_type": "code",
   "execution_count": null,
   "id": "cba810dc-4dce-4537-b52a-585bca0af5dc",
   "metadata": {
    "tags": []
   },
   "outputs": [],
   "source": [
    "simple_conversation(\"Can you tell me more about the first option?\")"
   ]
  },
  {
   "cell_type": "markdown",
   "id": "6a8f1f43-c23f-47e5-9044-8200541490b6",
   "metadata": {
    "tags": []
   },
   "source": [
    "___\n",
    "### LangChain Tools\n",
    "___"
   ]
  },
  {
   "cell_type": "markdown",
   "id": "b3c32f20-bf77-42be-ae34-5d14fedafea8",
   "metadata": {},
   "source": [
    "LangChain, further, has [tools](https://python.langchain.com/docs/modules/agents/tools/) which it can use to send API requests to perform various tasks which it may not have been able to do in isolation, such as make a search request or check the weather. Today, we will be using a math, and a Wikipedia tool, though please see a more complete list [here](https://js.langchain.com/docs/api/tools/). It is also possible to [create your own tool](https://python.langchain.com/docs/modules/agents/tools/custom_tools).\n",
    "\n",
    "We also use LangChain [agents](https://docs.langchain.com/docs/components/agents/). Agents are especially powerful where there is not a predetermined chain of calls, like we've had above so far. It is possible to have an unknown chain that depends on the user's input. In these types of chains, there is a “agent” which has access to a suite of tools. Depending on the user input, the agent can then decide which, if any, of these tools to call. An agent could call multiple LLM Chains that we defined above, each with their own tools. They can also be extended with custom logic to allow for retries, and error handling.\n",
    "\n",
    "Defining our two tools, as well as the LangChain agent, will give us a model that will able to determine whether it needs to use Wikipedia or a math tool, or whether it is able to answer a question on its own. If it needs the tool, it will make a request to the tool, receive the response, and then return that response to the user.\n",
    "\n",
    "We also define an Output Parser, which is a method of parsing the output from the prompt. If the LLM produces output uses certain headers, we can enable complex interactions where variables are generated by the LLM in their response and passed into the next step of the chain."
   ]
  },
  {
   "cell_type": "code",
   "execution_count": null,
   "id": "446b88e0-2343-45e9-acdf-6eaca826e540",
   "metadata": {
    "tags": []
   },
   "outputs": [],
   "source": [
    "from langchain.agents.conversational_chat.prompt import FORMAT_INSTRUCTIONS\n",
    "from langchain.output_parsers.json import parse_json_markdown\n",
    "from langchain.agents import AgentOutputParser, load_tools\n",
    "from langchain.schema import AgentAction, AgentFinish\n",
    "\n",
    "tools = load_tools([\"llm-math\", \"wikipedia\"], llm=llm)\n",
    "\n",
    "class OutputParser(AgentOutputParser):\n",
    "\n",
    "    def parse(self, response):\n",
    "        try:\n",
    "            parsed_response=parse_json_markdown(response)\n",
    "            step, step_input = parsed_response[\"step\"], parsed_response[\"step_input\"]\n",
    "            if step == \"Final Answer\":\n",
    "                return AgentFinish({\"output\": step_input}, response)\n",
    "            else:\n",
    "                return AgentAction(step, step_input, response)\n",
    "        except:\n",
    "            return AgentFinish({\"output\": response}, response)\n",
    "        \n",
    "    def get_format_instructions(self):\n",
    "        return FORMAT_INSTRUCTIONS\n",
    "\n",
    "parser = OutputParser()"
   ]
  },
  {
   "cell_type": "markdown",
   "id": "cbb731e7-34a2-407b-b4bf-70fc386c4b27",
   "metadata": {},
   "source": [
    "We initialize the agent with the tools we have defined above, the [agent type](https://python.langchain.com/docs/modules/agents/agent_types/), as well as the LLM, memory, and output parser we defined above. Again we set `Verbose` to `True`, which in this case will allow us to see if and how the agent calls a tool it has access to."
   ]
  },
  {
   "cell_type": "code",
   "execution_count": null,
   "id": "6fcfa5a5-8c68-451b-91e4-dae42030afa3",
   "metadata": {
    "tags": []
   },
   "outputs": [],
   "source": [
    "from langchain.agents import initialize_agent\n",
    "\n",
    "# initialize agent\n",
    "agent = initialize_agent(\n",
    "    agent=\"chat-conversational-react-description\",\n",
    "    memory=memory,\n",
    "    llm=llm,\n",
    "    tools=tools,\n",
    "    verbose=True,\n",
    "    agent_kwargs={\n",
    "        \"output_parser\": parser\n",
    "    }\n",
    ")"
   ]
  },
  {
   "cell_type": "markdown",
   "id": "97e8bf5a-75d1-43f4-98c3-d620184fe8ec",
   "metadata": {},
   "source": [
    "We also provide a background prompt to the model. This provides the LLM with instructions of the tools it has access to, when to use which, and how to use each. This allows the LLM to firstly know when to use a tool (as opposed to answering in isolation 'by itself'), but also allows the LangChain agent to create a request to the tool the LLM has identified, before returning to the LLM to respond in a natural language way."
   ]
  },
  {
   "cell_type": "code",
   "execution_count": null,
   "id": "ec5959a7-70bb-4e38-81b6-e47fc6e71b65",
   "metadata": {
    "tags": []
   },
   "outputs": [],
   "source": [
    "system_message = \"\"\"\n",
    "\n",
    "<>\\n Assistant is designed to build JSON and answer a wide variety of User questions.\n",
    "\n",
    "Assistant must use JSON strings that contain \"step\" and \"step_input\" parameters. All of Assistant's communication is performed using this JSON format.\n",
    "\n",
    "Tools available to Assistant are:\n",
    "\n",
    "- \"Wikipedia\": Useful when you need a summary of a person, place, historical event, or other subject. Input is typically a noun, like a person, place, historical event, or another subject.\n",
    "  - To use the wikipedia tool, Assistant should format the JSON like the following before getting the response and returning to the user:\n",
    "    ```json\n",
    "    {{\"step\": \"Wikipedia\",\n",
    "      \"step_input\": \"Statue of Liberty\"}}\n",
    "    ```\n",
    "- \"Calculator\": Useful for when you need to answer questions about math. Input is one or more number combined with one or more math operations (addition, subtraction, multiplation, division, square root, exponetnial, and more).\n",
    "  - To use the calculator tool, Assistant should format the JSON like the following so before getting the response and returning to the user:\n",
    "    ```json\n",
    "    {{\"step\": \"Calculator\",\n",
    "      \"step_input\": \"24*189\"}}\n",
    "    ```\n",
    "\n",
    "Here is the set of previous interactions between the User and Assistant:\n",
    "\n",
    "User: Hi!\n",
    "Assistant: ```\n",
    "{{\"step\": \"Final Answer\",\n",
    " \"step_input\": \"Hello! How can I assist today?\"}}\n",
    "```\n",
    "User: What is 9 cubed?\n",
    "Assistant: ```\n",
    "{{\"step\": \"Calculator\",\n",
    " \"step_input\": \"9**3\"}}\n",
    "```\n",
    "User: 729\n",
    "Assistant: ```\n",
    "{{\"step\": \"Final Answer\",\n",
    " \"step_input\": \"The answer to your question is 729.\"}}\n",
    "```\n",
    "User: Can you tell me about the Statue of Liberty?\n",
    "Assistant: ```\n",
    "{{\"step\": \"Wikipedia\",\n",
    " \"step_input\": \"Statue of Liberty\"}}\n",
    "```\n",
    "User: The Statue of Liberty is a colossal neoclassical sculpture on Liberty Island in New York Harbor in New York City, in the United States. The copper statue, a gift from the people of France, was designed by French sculptor Frédéric Auguste Bartholdi and its metal framework was built by Gustave Eiffel.\n",
    "Assistant: ```\n",
    "{{\"step\": \"Final Answer\",\n",
    " \"step_input\": \"Sure! The Statue of Liberty is a colossal neoclassical sculpture on Liberty Island in New York Harbor in New York City, in the United States. The copper statue, a gift from the people of France, was designed by French sculptor Frédéric Auguste Bartholdi and its metal framework was built by Gustave Eiffel.\"}}\n",
    "```\n",
    "User: What is the square root of 81?\n",
    "Assistant: ```\n",
    "{{\"step\": \"Calculator\",\n",
    " \"step_input\": \"sqrt(81)\"}}\n",
    "```\n",
    "User: 9\n",
    "Assistant: ```\n",
    "{{\"step\": \"Final Answer\",\n",
    " \"step_input\": \"The answer to your question is 9.\"}}\n",
    "```\n",
    "\n",
    "Assistant should use a tool only if needed, but if the assistant does use a tool, the result of the tool must always be returned back to the user with a \"Final Answer\" step. Only use the calculator if the 'step_input' includes numbers. \\n<>\\n\\n\n",
    "\"\"\"\n",
    "\n",
    "few_shot = agent.agent.create_prompt(\n",
    "    system_message=system_message,\n",
    "    tools=tools\n",
    ")\n",
    "agent.agent.llm_chain.prompt = few_shot\n",
    "\n",
    "agent.agent.llm_chain.prompt.messages[2].prompt.template = \"[INST] Respond in JSON with 'step' and 'step_input' values until you return an 'step': 'Final Answer', along with the 'step_input'. [/INST] \\nUser: {input}\""
   ]
  },
  {
   "cell_type": "markdown",
   "id": "962a1862-e5bf-4ff7-b36e-fee0f9afddda",
   "metadata": {},
   "source": [
    "We can now send some prompts to the LLM and see when/how it uses the tools!"
   ]
  },
  {
   "cell_type": "code",
   "execution_count": null,
   "id": "e4117358-0847-4296-8e28-79e170752f1d",
   "metadata": {
    "tags": []
   },
   "outputs": [],
   "source": [
    "def agent_conversation(question):\n",
    "    print(agent(question))"
   ]
  },
  {
   "cell_type": "code",
   "execution_count": null,
   "id": "4adfd0b0-6a04-4d1b-9667-1b1b1232f62c",
   "metadata": {
    "tags": []
   },
   "outputs": [],
   "source": [
    "agent_conversation('how are you?')"
   ]
  },
  {
   "cell_type": "code",
   "execution_count": null,
   "id": "3ed7fdf3-3d27-4f18-b7a1-ef6287e4ac2c",
   "metadata": {
    "tags": []
   },
   "outputs": [],
   "source": [
    "agent_conversation(\"Tell me about the Empire Statue Building\")"
   ]
  },
  {
   "cell_type": "code",
   "execution_count": null,
   "id": "e9c023c6-5731-46c3-8b78-1211d857acd8",
   "metadata": {
    "tags": []
   },
   "outputs": [],
   "source": [
    "agent_conversation(\"What is the square root of 64?\")"
   ]
  },
  {
   "cell_type": "code",
   "execution_count": null,
   "id": "fdf614f0-197c-43d9-ac2f-fdbb2a3bd4d6",
   "metadata": {
    "tags": []
   },
   "outputs": [],
   "source": [
    "response = agent_conversation(\"can you divide the answer to this last question by five?\")"
   ]
  },
  {
   "cell_type": "markdown",
   "id": "9a0af730-0b89-4783-948e-3208b2e8218c",
   "metadata": {},
   "source": [
    "___\n",
    "### Developing and deploying the UI with Streamlit\n",
    "___"
   ]
  },
  {
   "cell_type": "markdown",
   "id": "1d1119d4-9620-49f6-9616-1f184dfd54d4",
   "metadata": {},
   "source": [
    "Let's bring all of this together and host our chatbot interface!\n",
    "\n",
    "For this we will use [Streamlit](https://streamlit.io/). Streamlit is an open-source Python library that allows you to create and deploy web applications. It can be deployed from our local machine, or from the Cloud. Today, we will deploy it directly from SageMaker Studio.\n",
    "\n",
    "The file `app.py` brings together all of what we have discussed so far. It initializes a LanChain Agent, with the tools and conversation memory we spoke about previously. It connects to our same Llama 2 LLM."
   ]
  },
  {
   "cell_type": "markdown",
   "id": "5537e33d-b843-484d-b9a8-6451f71937ec",
   "metadata": {},
   "source": [
    "The majority of this code you will be familiar with from the notebook so far. The rest uses the [Streamlit library](https://docs.streamlit.io/library/api-reference), as well as [LangChain Streamlit packages](https://python.langchain.com/docs/integrations/memory/streamlit_chat_message_history). \n",
    "\n",
    "It is one of the last lines of the file, `response = agent(prompt, callbacks=[st_cb])` that sends the prompt to the agent, as well as specifies the [StreamlitCallbackHandler](https://python.LangChain.com/docs/integrations/callbacks/streamlit) which can display the reasoning and actions in the streamlit app. By default we are not showing this in the conversation, and have a regex that filers out too much of the conversation history and thought process, though in order to see comment out the line at the end `response = re.sub(\"\\{.*?\\}\",\"\",response[\"output\"])`.\n",
    "\n",
    "We are also using [st.chat_message](https://docs.streamlit.io/library/api-reference/chat/st.chat_message) to handle the chat message container, and [st.write](https://docs.streamlit.io/library/api-reference/write-magic/st.write) to return this, along with the previous conversation, back to the UI."
   ]
  },
  {
   "cell_type": "markdown",
   "id": "f7742ca6-962f-41cc-afd0-03a38dbb2f6a",
   "metadata": {
    "tags": []
   },
   "source": [
    "We can [build Streamlit apps in SageMaker Studio](https://aws.amazon.com/blogs/machine-learning/build-streamlit-apps-in-amazon-sagemaker-studio/). We will do this by hosting the app on the Jupyter Server. \n",
    "\n",
    "Firstly, let's write the output of our SageMaker endpoint to a text file so it can be read by the `app.py`:"
   ]
  },
  {
   "cell_type": "code",
   "execution_count": null,
   "id": "e7a84017-a71f-499d-8903-88fc4055676e",
   "metadata": {
    "tags": []
   },
   "outputs": [],
   "source": [
    "f = open(\"../studio-local-ui/endpoint_name.txt\", \"w\")\n",
    "f.write(pretrained_predictor.endpoint_name)\n",
    "f.close()"
   ]
  },
  {
   "cell_type": "code",
   "execution_count": null,
   "id": "c292de59-8e0b-4260-b8c6-325a1e1f9744",
   "metadata": {
    "tags": []
   },
   "outputs": [],
   "source": [
    "f = open(\"../studio-local-ui/custom_attribute.txt\", \"w\")\n",
    "f.write(custom_attribute)\n",
    "f.close()"
   ]
  },
  {
   "cell_type": "markdown",
   "id": "9de74a99-c6ce-4fa2-bb0b-abe8512ece55",
   "metadata": {},
   "source": [
    "Run the following cells marked with `%%bash`, these cells will install a few packages in your conda environment and spin up a new Streamlit UI that's accessible from the URL described below."
   ]
  },
  {
   "cell_type": "code",
   "execution_count": null,
   "id": "1e047e8b-5aac-4012-81f2-cab3c1180bfc",
   "metadata": {
    "scrolled": true
   },
   "outputs": [],
   "source": [
    "%%bash\n",
    "cd ../studio-local-ui\n",
    "python3 -m pip install -r requirements.txt -q"
   ]
  },
  {
   "cell_type": "code",
   "execution_count": null,
   "id": "69e1e9ee-7fd6-4e2d-8352-ff827daf4eab",
   "metadata": {},
   "outputs": [],
   "source": [
    "%%bash\n",
    "cd ../studio-local-ui\n",
    "streamlit run chat_app.py --server.runOnSave true --server.port 8501 > /dev/null"
   ]
  },
  {
   "cell_type": "markdown",
   "id": "bdd0397a-5440-44b8-838a-7b2b543d014c",
   "metadata": {},
   "source": [
    "<div style=\"background-color: #6bb07e; border-left: 5px solid #6bb07e; padding: 10px; color: black;\">\n",
    "    - Navigate to: https://example.studio.us-west-2.sagemaker.aws/jupyterlab/default/proxy/8502/\n",
    "</div>\n",
    "\n",
    "<div style=\"background-color: #6bb07e; border-left: 5px solid #6bb07e; padding: 10px; color: black;\">\n",
    "    <i>- Replace \"example\" with your your current url host `https://use_this_host.studio.us-west-2...`</i>\n",
    "</div>"
   ]
  },
  {
   "cell_type": "code",
   "execution_count": null,
   "id": "d43a47ef-f0f5-41b1-aff4-96f34b596c32",
   "metadata": {},
   "outputs": [],
   "source": []
  }
 ],
 "metadata": {
  "availableInstances": [
   {
    "_defaultOrder": 0,
    "_isFastLaunch": true,
    "category": "General purpose",
    "gpuNum": 0,
    "hideHardwareSpecs": false,
    "memoryGiB": 4,
    "name": "ml.t3.medium",
    "vcpuNum": 2
   },
   {
    "_defaultOrder": 1,
    "_isFastLaunch": false,
    "category": "General purpose",
    "gpuNum": 0,
    "hideHardwareSpecs": false,
    "memoryGiB": 8,
    "name": "ml.t3.large",
    "vcpuNum": 2
   },
   {
    "_defaultOrder": 2,
    "_isFastLaunch": false,
    "category": "General purpose",
    "gpuNum": 0,
    "hideHardwareSpecs": false,
    "memoryGiB": 16,
    "name": "ml.t3.xlarge",
    "vcpuNum": 4
   },
   {
    "_defaultOrder": 3,
    "_isFastLaunch": false,
    "category": "General purpose",
    "gpuNum": 0,
    "hideHardwareSpecs": false,
    "memoryGiB": 32,
    "name": "ml.t3.2xlarge",
    "vcpuNum": 8
   },
   {
    "_defaultOrder": 4,
    "_isFastLaunch": true,
    "category": "General purpose",
    "gpuNum": 0,
    "hideHardwareSpecs": false,
    "memoryGiB": 8,
    "name": "ml.m5.large",
    "vcpuNum": 2
   },
   {
    "_defaultOrder": 5,
    "_isFastLaunch": false,
    "category": "General purpose",
    "gpuNum": 0,
    "hideHardwareSpecs": false,
    "memoryGiB": 16,
    "name": "ml.m5.xlarge",
    "vcpuNum": 4
   },
   {
    "_defaultOrder": 6,
    "_isFastLaunch": false,
    "category": "General purpose",
    "gpuNum": 0,
    "hideHardwareSpecs": false,
    "memoryGiB": 32,
    "name": "ml.m5.2xlarge",
    "vcpuNum": 8
   },
   {
    "_defaultOrder": 7,
    "_isFastLaunch": false,
    "category": "General purpose",
    "gpuNum": 0,
    "hideHardwareSpecs": false,
    "memoryGiB": 64,
    "name": "ml.m5.4xlarge",
    "vcpuNum": 16
   },
   {
    "_defaultOrder": 8,
    "_isFastLaunch": false,
    "category": "General purpose",
    "gpuNum": 0,
    "hideHardwareSpecs": false,
    "memoryGiB": 128,
    "name": "ml.m5.8xlarge",
    "vcpuNum": 32
   },
   {
    "_defaultOrder": 9,
    "_isFastLaunch": false,
    "category": "General purpose",
    "gpuNum": 0,
    "hideHardwareSpecs": false,
    "memoryGiB": 192,
    "name": "ml.m5.12xlarge",
    "vcpuNum": 48
   },
   {
    "_defaultOrder": 10,
    "_isFastLaunch": false,
    "category": "General purpose",
    "gpuNum": 0,
    "hideHardwareSpecs": false,
    "memoryGiB": 256,
    "name": "ml.m5.16xlarge",
    "vcpuNum": 64
   },
   {
    "_defaultOrder": 11,
    "_isFastLaunch": false,
    "category": "General purpose",
    "gpuNum": 0,
    "hideHardwareSpecs": false,
    "memoryGiB": 384,
    "name": "ml.m5.24xlarge",
    "vcpuNum": 96
   },
   {
    "_defaultOrder": 12,
    "_isFastLaunch": false,
    "category": "General purpose",
    "gpuNum": 0,
    "hideHardwareSpecs": false,
    "memoryGiB": 8,
    "name": "ml.m5d.large",
    "vcpuNum": 2
   },
   {
    "_defaultOrder": 13,
    "_isFastLaunch": false,
    "category": "General purpose",
    "gpuNum": 0,
    "hideHardwareSpecs": false,
    "memoryGiB": 16,
    "name": "ml.m5d.xlarge",
    "vcpuNum": 4
   },
   {
    "_defaultOrder": 14,
    "_isFastLaunch": false,
    "category": "General purpose",
    "gpuNum": 0,
    "hideHardwareSpecs": false,
    "memoryGiB": 32,
    "name": "ml.m5d.2xlarge",
    "vcpuNum": 8
   },
   {
    "_defaultOrder": 15,
    "_isFastLaunch": false,
    "category": "General purpose",
    "gpuNum": 0,
    "hideHardwareSpecs": false,
    "memoryGiB": 64,
    "name": "ml.m5d.4xlarge",
    "vcpuNum": 16
   },
   {
    "_defaultOrder": 16,
    "_isFastLaunch": false,
    "category": "General purpose",
    "gpuNum": 0,
    "hideHardwareSpecs": false,
    "memoryGiB": 128,
    "name": "ml.m5d.8xlarge",
    "vcpuNum": 32
   },
   {
    "_defaultOrder": 17,
    "_isFastLaunch": false,
    "category": "General purpose",
    "gpuNum": 0,
    "hideHardwareSpecs": false,
    "memoryGiB": 192,
    "name": "ml.m5d.12xlarge",
    "vcpuNum": 48
   },
   {
    "_defaultOrder": 18,
    "_isFastLaunch": false,
    "category": "General purpose",
    "gpuNum": 0,
    "hideHardwareSpecs": false,
    "memoryGiB": 256,
    "name": "ml.m5d.16xlarge",
    "vcpuNum": 64
   },
   {
    "_defaultOrder": 19,
    "_isFastLaunch": false,
    "category": "General purpose",
    "gpuNum": 0,
    "hideHardwareSpecs": false,
    "memoryGiB": 384,
    "name": "ml.m5d.24xlarge",
    "vcpuNum": 96
   },
   {
    "_defaultOrder": 20,
    "_isFastLaunch": false,
    "category": "General purpose",
    "gpuNum": 0,
    "hideHardwareSpecs": true,
    "memoryGiB": 0,
    "name": "ml.geospatial.interactive",
    "supportedImageNames": [
     "sagemaker-geospatial-v1-0"
    ],
    "vcpuNum": 0
   },
   {
    "_defaultOrder": 21,
    "_isFastLaunch": true,
    "category": "Compute optimized",
    "gpuNum": 0,
    "hideHardwareSpecs": false,
    "memoryGiB": 4,
    "name": "ml.c5.large",
    "vcpuNum": 2
   },
   {
    "_defaultOrder": 22,
    "_isFastLaunch": false,
    "category": "Compute optimized",
    "gpuNum": 0,
    "hideHardwareSpecs": false,
    "memoryGiB": 8,
    "name": "ml.c5.xlarge",
    "vcpuNum": 4
   },
   {
    "_defaultOrder": 23,
    "_isFastLaunch": false,
    "category": "Compute optimized",
    "gpuNum": 0,
    "hideHardwareSpecs": false,
    "memoryGiB": 16,
    "name": "ml.c5.2xlarge",
    "vcpuNum": 8
   },
   {
    "_defaultOrder": 24,
    "_isFastLaunch": false,
    "category": "Compute optimized",
    "gpuNum": 0,
    "hideHardwareSpecs": false,
    "memoryGiB": 32,
    "name": "ml.c5.4xlarge",
    "vcpuNum": 16
   },
   {
    "_defaultOrder": 25,
    "_isFastLaunch": false,
    "category": "Compute optimized",
    "gpuNum": 0,
    "hideHardwareSpecs": false,
    "memoryGiB": 72,
    "name": "ml.c5.9xlarge",
    "vcpuNum": 36
   },
   {
    "_defaultOrder": 26,
    "_isFastLaunch": false,
    "category": "Compute optimized",
    "gpuNum": 0,
    "hideHardwareSpecs": false,
    "memoryGiB": 96,
    "name": "ml.c5.12xlarge",
    "vcpuNum": 48
   },
   {
    "_defaultOrder": 27,
    "_isFastLaunch": false,
    "category": "Compute optimized",
    "gpuNum": 0,
    "hideHardwareSpecs": false,
    "memoryGiB": 144,
    "name": "ml.c5.18xlarge",
    "vcpuNum": 72
   },
   {
    "_defaultOrder": 28,
    "_isFastLaunch": false,
    "category": "Compute optimized",
    "gpuNum": 0,
    "hideHardwareSpecs": false,
    "memoryGiB": 192,
    "name": "ml.c5.24xlarge",
    "vcpuNum": 96
   },
   {
    "_defaultOrder": 29,
    "_isFastLaunch": true,
    "category": "Accelerated computing",
    "gpuNum": 1,
    "hideHardwareSpecs": false,
    "memoryGiB": 16,
    "name": "ml.g4dn.xlarge",
    "vcpuNum": 4
   },
   {
    "_defaultOrder": 30,
    "_isFastLaunch": false,
    "category": "Accelerated computing",
    "gpuNum": 1,
    "hideHardwareSpecs": false,
    "memoryGiB": 32,
    "name": "ml.g4dn.2xlarge",
    "vcpuNum": 8
   },
   {
    "_defaultOrder": 31,
    "_isFastLaunch": false,
    "category": "Accelerated computing",
    "gpuNum": 1,
    "hideHardwareSpecs": false,
    "memoryGiB": 64,
    "name": "ml.g4dn.4xlarge",
    "vcpuNum": 16
   },
   {
    "_defaultOrder": 32,
    "_isFastLaunch": false,
    "category": "Accelerated computing",
    "gpuNum": 1,
    "hideHardwareSpecs": false,
    "memoryGiB": 128,
    "name": "ml.g4dn.8xlarge",
    "vcpuNum": 32
   },
   {
    "_defaultOrder": 33,
    "_isFastLaunch": false,
    "category": "Accelerated computing",
    "gpuNum": 4,
    "hideHardwareSpecs": false,
    "memoryGiB": 192,
    "name": "ml.g4dn.12xlarge",
    "vcpuNum": 48
   },
   {
    "_defaultOrder": 34,
    "_isFastLaunch": false,
    "category": "Accelerated computing",
    "gpuNum": 1,
    "hideHardwareSpecs": false,
    "memoryGiB": 256,
    "name": "ml.g4dn.16xlarge",
    "vcpuNum": 64
   },
   {
    "_defaultOrder": 35,
    "_isFastLaunch": false,
    "category": "Accelerated computing",
    "gpuNum": 1,
    "hideHardwareSpecs": false,
    "memoryGiB": 61,
    "name": "ml.p3.2xlarge",
    "vcpuNum": 8
   },
   {
    "_defaultOrder": 36,
    "_isFastLaunch": false,
    "category": "Accelerated computing",
    "gpuNum": 4,
    "hideHardwareSpecs": false,
    "memoryGiB": 244,
    "name": "ml.p3.8xlarge",
    "vcpuNum": 32
   },
   {
    "_defaultOrder": 37,
    "_isFastLaunch": false,
    "category": "Accelerated computing",
    "gpuNum": 8,
    "hideHardwareSpecs": false,
    "memoryGiB": 488,
    "name": "ml.p3.16xlarge",
    "vcpuNum": 64
   },
   {
    "_defaultOrder": 38,
    "_isFastLaunch": false,
    "category": "Accelerated computing",
    "gpuNum": 8,
    "hideHardwareSpecs": false,
    "memoryGiB": 768,
    "name": "ml.p3dn.24xlarge",
    "vcpuNum": 96
   },
   {
    "_defaultOrder": 39,
    "_isFastLaunch": false,
    "category": "Memory Optimized",
    "gpuNum": 0,
    "hideHardwareSpecs": false,
    "memoryGiB": 16,
    "name": "ml.r5.large",
    "vcpuNum": 2
   },
   {
    "_defaultOrder": 40,
    "_isFastLaunch": false,
    "category": "Memory Optimized",
    "gpuNum": 0,
    "hideHardwareSpecs": false,
    "memoryGiB": 32,
    "name": "ml.r5.xlarge",
    "vcpuNum": 4
   },
   {
    "_defaultOrder": 41,
    "_isFastLaunch": false,
    "category": "Memory Optimized",
    "gpuNum": 0,
    "hideHardwareSpecs": false,
    "memoryGiB": 64,
    "name": "ml.r5.2xlarge",
    "vcpuNum": 8
   },
   {
    "_defaultOrder": 42,
    "_isFastLaunch": false,
    "category": "Memory Optimized",
    "gpuNum": 0,
    "hideHardwareSpecs": false,
    "memoryGiB": 128,
    "name": "ml.r5.4xlarge",
    "vcpuNum": 16
   },
   {
    "_defaultOrder": 43,
    "_isFastLaunch": false,
    "category": "Memory Optimized",
    "gpuNum": 0,
    "hideHardwareSpecs": false,
    "memoryGiB": 256,
    "name": "ml.r5.8xlarge",
    "vcpuNum": 32
   },
   {
    "_defaultOrder": 44,
    "_isFastLaunch": false,
    "category": "Memory Optimized",
    "gpuNum": 0,
    "hideHardwareSpecs": false,
    "memoryGiB": 384,
    "name": "ml.r5.12xlarge",
    "vcpuNum": 48
   },
   {
    "_defaultOrder": 45,
    "_isFastLaunch": false,
    "category": "Memory Optimized",
    "gpuNum": 0,
    "hideHardwareSpecs": false,
    "memoryGiB": 512,
    "name": "ml.r5.16xlarge",
    "vcpuNum": 64
   },
   {
    "_defaultOrder": 46,
    "_isFastLaunch": false,
    "category": "Memory Optimized",
    "gpuNum": 0,
    "hideHardwareSpecs": false,
    "memoryGiB": 768,
    "name": "ml.r5.24xlarge",
    "vcpuNum": 96
   },
   {
    "_defaultOrder": 47,
    "_isFastLaunch": false,
    "category": "Accelerated computing",
    "gpuNum": 1,
    "hideHardwareSpecs": false,
    "memoryGiB": 16,
    "name": "ml.g5.xlarge",
    "vcpuNum": 4
   },
   {
    "_defaultOrder": 48,
    "_isFastLaunch": false,
    "category": "Accelerated computing",
    "gpuNum": 1,
    "hideHardwareSpecs": false,
    "memoryGiB": 32,
    "name": "ml.g5.2xlarge",
    "vcpuNum": 8
   },
   {
    "_defaultOrder": 49,
    "_isFastLaunch": false,
    "category": "Accelerated computing",
    "gpuNum": 1,
    "hideHardwareSpecs": false,
    "memoryGiB": 64,
    "name": "ml.g5.4xlarge",
    "vcpuNum": 16
   },
   {
    "_defaultOrder": 50,
    "_isFastLaunch": false,
    "category": "Accelerated computing",
    "gpuNum": 1,
    "hideHardwareSpecs": false,
    "memoryGiB": 128,
    "name": "ml.g5.8xlarge",
    "vcpuNum": 32
   },
   {
    "_defaultOrder": 51,
    "_isFastLaunch": false,
    "category": "Accelerated computing",
    "gpuNum": 1,
    "hideHardwareSpecs": false,
    "memoryGiB": 256,
    "name": "ml.g5.16xlarge",
    "vcpuNum": 64
   },
   {
    "_defaultOrder": 52,
    "_isFastLaunch": false,
    "category": "Accelerated computing",
    "gpuNum": 4,
    "hideHardwareSpecs": false,
    "memoryGiB": 192,
    "name": "ml.g5.12xlarge",
    "vcpuNum": 48
   },
   {
    "_defaultOrder": 53,
    "_isFastLaunch": false,
    "category": "Accelerated computing",
    "gpuNum": 4,
    "hideHardwareSpecs": false,
    "memoryGiB": 384,
    "name": "ml.g5.24xlarge",
    "vcpuNum": 96
   },
   {
    "_defaultOrder": 54,
    "_isFastLaunch": false,
    "category": "Accelerated computing",
    "gpuNum": 8,
    "hideHardwareSpecs": false,
    "memoryGiB": 768,
    "name": "ml.g5.48xlarge",
    "vcpuNum": 192
   },
   {
    "_defaultOrder": 55,
    "_isFastLaunch": false,
    "category": "Accelerated computing",
    "gpuNum": 8,
    "hideHardwareSpecs": false,
    "memoryGiB": 1152,
    "name": "ml.p4d.24xlarge",
    "vcpuNum": 96
   },
   {
    "_defaultOrder": 56,
    "_isFastLaunch": false,
    "category": "Accelerated computing",
    "gpuNum": 8,
    "hideHardwareSpecs": false,
    "memoryGiB": 1152,
    "name": "ml.p4de.24xlarge",
    "vcpuNum": 96
   }
  ],
  "instance_type": "ml.t3.medium",
  "kernelspec": {
   "display_name": "Python 3 (ipykernel)",
   "language": "python",
   "name": "python3"
  },
  "language_info": {
   "codemirror_mode": {
    "name": "ipython",
    "version": 3
   },
   "file_extension": ".py",
   "mimetype": "text/x-python",
   "name": "python",
   "nbconvert_exporter": "python",
   "pygments_lexer": "ipython3",
   "version": "3.10.13"
  }
 },
 "nbformat": 4,
 "nbformat_minor": 5
}
