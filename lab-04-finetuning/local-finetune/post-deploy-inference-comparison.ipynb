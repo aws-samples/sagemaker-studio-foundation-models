{
 "cells": [
  {
   "cell_type": "markdown",
   "metadata": {},
   "source": [
    "# Comparing Pre-trained model with Fine-tuning Model"
   ]
  },
  {
   "cell_type": "markdown",
   "metadata": {},
   "source": [
    "Once a model is deployed as a Sagemaker Endpoint, you can test model endpoint inference using `sagemaker.Predictor` class which test as input and allowing `Predictor` Class to do the heavy lifting.\n",
    "\n",
    "In this notebook we are going to use both pre-trained model (deployed in lab-01) and the fine-tuned model (deployed in lab-04)."
   ]
  },
  {
   "cell_type": "code",
   "execution_count": 120,
   "metadata": {},
   "outputs": [],
   "source": [
    "import json\n",
    "import pandas as pd\n",
    "import sagemaker\n",
    "from datasets import load_dataset\n",
    "from random import randrange\n",
    "from sagemaker import serializers, deserializers\n",
    "from IPython.display import display, HTML"
   ]
  },
  {
   "cell_type": "code",
   "execution_count": 101,
   "metadata": {},
   "outputs": [],
   "source": [
    "sess = sagemaker.Session()"
   ]
  },
  {
   "cell_type": "markdown",
   "metadata": {},
   "source": [
    "## Sample Dataset"
   ]
  },
  {
   "cell_type": "markdown",
   "metadata": {},
   "source": [
    "We need sample dataset to test our model inference"
   ]
  },
  {
   "cell_type": "code",
   "execution_count": 102,
   "metadata": {},
   "outputs": [],
   "source": [
    "def format_dolly(sample, incl_answer=True):\n",
    "    instruction = f\"### Instruction\\n{sample['instruction']}\"\n",
    "    context = f\"### Context\\n{sample['context']}\" if len(sample[\"context\"]) > 0 else None\n",
    "    response = f\"### Answer\\n{sample['response']}\" if incl_answer else None\n",
    "    # join all the parts together\n",
    "    prompt = \"\\n\\n\".join([i for i in [instruction, context, response] if i is not None])\n",
    "\n",
    "    if not incl_answer:\n",
    "        return prompt, sample['response']\n",
    "    else:\n",
    "        return prompt"
   ]
  },
  {
   "cell_type": "code",
   "execution_count": 122,
   "metadata": {},
   "outputs": [
    {
     "name": "stderr",
     "output_type": "stream",
     "text": [
      "Using the latest cached version of the dataset since databricks/databricks-dolly-15k couldn't be found on the Hugging Face Hub\n",
      "Found the latest cached dataset configuration 'default' at /Users/marcasbr/.cache/huggingface/datasets/databricks___databricks-dolly-15k/default/0.0.0/bdd27f4d94b9c1f951818a7da7fd7aeea5dbff1a (last modified on Thu Feb 22 17:18:56 2024).\n",
      "Creating json from Arrow format: 100%|██████████| 1/1 [00:00<00:00, 136.04ba/s]\n",
      "Creating json from Arrow format: 100%|██████████| 1/1 [00:00<00:00, 501.77ba/s]\n"
     ]
    },
    {
     "data": {
      "text/plain": [
       "46373"
      ]
     },
     "execution_count": 122,
     "metadata": {},
     "output_type": "execute_result"
    }
   ],
   "source": [
    "inference_dataset = load_dataset(\"databricks/databricks-dolly-15k\", split=\"train[15%:30%]\")\n",
    "\n",
    "# To train for question answering/information extraction, you can replace the assertion in next line to example[\"category\"] == \"closed_qa\"/\"information_extraction\".\n",
    "summarization_dataset = inference_dataset.filter(lambda example: example[\"category\"] == \"summarization\")\n",
    "#summarization_dataset = summarization_dataset.remove_columns(\"category\")\n",
    "\n",
    "# We split the dataset into two where test data is used to evaluate at the end.\n",
    "train_and_test_dataset = summarization_dataset.train_test_split(test_size=0.1)"
   ]
  },
  {
   "cell_type": "code",
   "execution_count": 105,
   "metadata": {},
   "outputs": [],
   "source": [
    "sample_query, gt_answer = format_dolly(inference_dataset[10], False) \n",
    "sample_query = sample_query + \"\\n\\n### Answer\""
   ]
  },
  {
   "cell_type": "code",
   "execution_count": 106,
   "metadata": {},
   "outputs": [
    {
     "name": "stdout",
     "output_type": "stream",
     "text": [
      "### Instruction\n",
      "what are the rules of cricket ?\n",
      "\n",
      "### Context\n",
      "Cricket is a bat-and-ball game played between two teams of eleven players on a field at the centre of which is a 22-yard (20-metre) pitch with a wicket at each end, each comprising two bails balanced on three stumps. The batting side scores runs by striking the ball bowled at one of the wickets with the bat and then running between the wickets, while the bowling and fielding side tries to prevent this (by preventing the ball from leaving the field, and getting the ball to either wicket) and dismiss each batter (so they are \"out\"). Means of dismissal include being bowled, when the ball hits the stumps and dislodges the bails, and by the fielding side either catching the ball after it is hit by the bat, but before it hits the ground, or hitting a wicket with the ball before a batter can cross the crease in front of the wicket. When ten batters have been dismissed, the innings ends and the teams swap roles. The game is adjudicated by two umpires, aided by a third umpire and match referee in international matches. They communicate with two off-field scorers who record the match's statistical information.\n",
      "\n",
      "Forms of cricket range from Twenty20, with each team batting for a single innings of 20 overs (each \"over\" being a set of 6 fair opportunities for the batting team to score) and the game generally lasting three hours, to Test matches played over five days. Traditionally cricketers play in all-white kit, but in limited overs cricket they wear club or team colours. In addition to the basic kit, some players wear protective gear to prevent injury caused by the ball, which is a hard, solid spheroid made of compressed leather with a slightly raised sewn seam enclosing a cork core layered with tightly wound string.\n",
      "\n",
      "The earliest reference to cricket is in South East England in the mid-16th century. It spread globally with the expansion of the British Empire, with the first international matches in the second half of the 19th century. The game's governing body is the International Cricket Council (ICC), which has over 100 members, twelve of which are full members who play Test matches. The game's rules, the Laws of Cricket, are maintained by Marylebone Cricket Club (MCC) in London. The sport is followed primarily in South Asia, Australasia, the United Kingdom, Southern Africa and the West Indies.\n",
      "\n",
      "Women's cricket, which is organised and played separately, has also achieved international standard. The most successful side playing international cricket is Australia, which has won seven One Day International trophies, including five World Cups, more than any other country and has been the top-rated Test side more than any other country.\n",
      "\n",
      "### Answer\n"
     ]
    }
   ],
   "source": [
    "print(sample_query)"
   ]
  },
  {
   "cell_type": "markdown",
   "metadata": {},
   "source": [
    "## Instantiate Endpoints"
   ]
  },
  {
   "cell_type": "markdown",
   "metadata": {},
   "source": [
    "To run inference, we need to instantiate a new `sagemaker.Predictor` class."
   ]
  },
  {
   "cell_type": "code",
   "execution_count": 121,
   "metadata": {},
   "outputs": [],
   "source": [
    "finetuned_predictor = sagemaker.Predictor(\n",
    "    endpoint_name=\"ft-meta-llama2-7b-chat-tg-ep\",\n",
    "    sagemaker_session=sess,\n",
    "    serializer=serializers.JSONSerializer(),\n",
    "    deserializer=deserializers.JSONDeserializer(),\n",
    ")\n",
    "\n",
    "pretrained_predictor = sagemaker.Predictor(\n",
    "    endpoint_name=\"meta-llama2-7b-chat-tg-ep\",\n",
    "    sagemaker_session=sess,\n",
    "    serializer=serializers.JSONSerializer(),\n",
    "    deserializer=deserializers.JSONDeserializer(),\n",
    ")"
   ]
  },
  {
   "cell_type": "code",
   "execution_count": 123,
   "metadata": {},
   "outputs": [],
   "source": [
    "# Getting test dataset for endpoint evaluations\n",
    "test_dataset = train_and_test_dataset[\"test\"]\n",
    "\n",
    "inputs, ground_truth_responses, responses_before_finetuning, responses_after_finetuning = (\n",
    "    [],\n",
    "    [],\n",
    "    [],\n",
    "    [],\n",
    ")"
   ]
  },
  {
   "cell_type": "code",
   "execution_count": 124,
   "metadata": {},
   "outputs": [],
   "source": [
    "def predict_and_print(datapoint):\n",
    "    sample_query, gt_answer = format_dolly(datapoint, False) \n",
    "    sample_query = sample_query + \"\\n\\n### Answer\"\n",
    "    \n",
    "    # For instruction fine-tuning, we insert a special key between input and output\n",
    "    input_output_demarkation_key = \"\\n\\n### Response:\\n\"\n",
    "\n",
    "    payload = {\n",
    "        \"inputs\": sample_query,\n",
    "        \"parameters\": {\"temperature\": 0.6, \"max_new_tokens\": 256}\n",
    "    }\n",
    "    \n",
    "    inputs.append(payload[\"inputs\"])\n",
    "    ground_truth_responses.append(datapoint[\"response\"])\n",
    "\n",
    "    # Please change the following line to \"accept_eula=True\"\n",
    "    pretrained_response = pretrained_predictor.predict(\n",
    "        payload, custom_attributes=\"accept_eula=True\"\n",
    "    )\n",
    "    responses_before_finetuning.append(pretrained_response[0][\"generated_text\"])\n",
    "    #print(f'responses_before_finetuning: {pretrained_response[0][\"generated_text\"]}')\n",
    "    \n",
    "    # Please change the following line to \"accept_eula=True\"\n",
    "    finetuned_response = finetuned_predictor.predict(\n",
    "        payload, custom_attributes=\"accept_eula=True\")\n",
    "    responses_after_finetuning.append(finetuned_response[\"generated_text\"])\n",
    "    #print(f'responses_after_finetuning: {finetuned_response[\"generated_text\"]}')\n"
   ]
  },
  {
   "cell_type": "code",
   "execution_count": 125,
   "metadata": {},
   "outputs": [
    {
     "data": {
      "text/html": [
       "<table border=\"1\" class=\"dataframe\">\n",
       "  <thead>\n",
       "    <tr style=\"text-align: right;\">\n",
       "      <th></th>\n",
       "      <th>Inputs</th>\n",
       "      <th>Ground Truth</th>\n",
       "      <th>Response from non-finetuned model</th>\n",
       "      <th>Response from fine-tuned model</th>\n",
       "    </tr>\n",
       "  </thead>\n",
       "  <tbody>\n",
       "    <tr>\n",
       "      <th>0</th>\n",
       "      <td>### Instruction\\nBased on this passage, give a bulleted overview of the components of the lean startup methodology.\\n\\n### Context\\nLean startup is a methodology for developing businesses and products that aims to shorten product development cycles and rapidly discover if a proposed business model is viable; this is achieved by adopting a combination of business-hypothesis-driven experimentation, iterative product releases, and validated learning. Lean startup emphasizes customer feedback over intuition and flexibility over planning. This methodology enables recovery from failures more often than traditional ways of product development. \\n\\n### Answer</td>\n",
       "      <td>Lean startup is a business and product development methodology\\nThe aim is to shorten product development cycles\\nThe approach is to test business hypotheses\\nThe experiments involve iterative product releases and learning from customer feedback</td>\n",
       "      <td>\\n\\n• Business-hypothesis-driven experimentation\\n• Iterative product releases\\n• Validated learning\\n• Customer feedback over intuition\\n• Flexibility over planning</td>\n",
       "      <td>\\nHere is a bulleted overview of the components of the lean startup methodology:\\n\\n1. Customer development: identifying the target market, validating customer needs, and gaining a deep understanding of the problem the product is intended to solve.\\n\\n2. Validated learning: building a minimum viable product (MVP) and testing it with a small group of customers to validate assumptions and gather feedback.\\n\\n3. Business model experimentation: testing different business models to determine which is most viable, and iterating based on customer feedback.\\n\\n4. Constant iteration: continuously improving the product based on customer feedback and data-driven decision making.\\n\\n5. Rapid prototyping: creating a prototype of the product to validate the business model and gather feedback quickly.\\n\\n6. Lean team: a cross-functional team that includes designers, developers, and business experts, who work together to quickly validate assumptions and build a successful product.\\n\\n7. Lean canvas: a tool used for visualizing the key components of a business's value proposition, customers, channels, and costs.\\n\\n8. Customer segmentation: identifying and targeting specific customer segments to focus</td>\n",
       "    </tr>\n",
       "    <tr>\n",
       "      <th>1</th>\n",
       "      <td>### Instruction\\nGive me a bulleted list of the main responses to \"Bad Blood\" listed in this text, including whether they were positive or negative.\\n\\n### Context\\n\"Bad Blood\" is a song by American singer-songwriter Taylor Swift, taken from her fifth studio album 1989 (2014). Swift wrote the song with its producers Max Martin and Shellback. The album track is a pop song with stomping drums. A hip hop remix of \"Bad Blood\", featuring American rapper Kendrick Lamar and additional production by Ilya, was released as the fourth single from 1989 on May 17, 2015, by Big Machine and Republic Records.\\n\\nThe lyrics are about feelings of betrayal by a close friend. Upon the album's release, critics expressed mixed opinions about \"Bad Blood\", with some complimenting Swift's defiant attitude and dubbing it an album highlight, while others criticized its production and lyrics. The remixed single was praised for the reworked instrumentation and Lamar's verses, which others considered to be out of place on a pop song. Media outlets speculated that American singer Katy Perry is the subject of the song. The remix received a Grammy nomination for Best Pop Duo/Group Performance.\\n\\n\"Bad Blood\" was supported by a high-budget music video directed by Joseph Kahn and produced by Swift. It featured an ensemble cast consisting of many singers, actresses and fashion models, which received wide media coverage. Critics praised the video for its cinematic and futuristic visuals inspired by neo-noir styles. It won a Grammy Award for Best Music Video, and two MTV Video Music Awards for the Video of the Year and Best Collaboration. Commercially, \"Bad Blood\" reached number one in Australia, Canada, New Zealand, and Scotland, as well as the United States, where it topped the Billboard Hot 100, Adult Top 40 and Mainstream Top 40 charts. It has been certified triple platinum in Australia and Canada, and 6× platinum in the US.\\n\\n### Answer</td>\n",
       "      <td>* positive about Taylor Swift's defiant attitude\\n* negative about the song's production and lyrics\\n* positive about the instrumentation and verses\\n* positive about the accompanying music video's visuals\\n* positive in terms of topping several charts</td>\n",
       "      <td>\\n\\nHere are the main responses to \"Bad Blood\":\\n\\n* Positive:\\n\\t+ Critics praised Swift's defiant attitude and dubbed the song an album highlight.\\n\\t+ The remixed single was praised for the reworked instrumentation and Lamar's verses.\\n\\t+ The music video was praised for its cinematic and futuristic visuals.\\n\\t+ The video won a Grammy Award for Best Music Video and two MTV Video Music Awards.\\n\\t+ The song reached number one in several countries, including the US, and was certified multi-platinum in several countries.\\n* Negative:\\n\\t+ Some critics expressed mixed opinions about the song, criticizing its production and lyrics.\\n\\t+ Media outlets speculated that the song was about Katy Perry, which Swift denied.\\n\\t+ Some critics found Lamar's verses to be out of place on a pop song.</td>\n",
       "      <td>\\n\\nPositive responses:\\n- The song's production and sound were praised for their catchiness and energy.\\n- The lyrics were seen as empowering and relatable, with many fans connecting to the song's themes of female empowerment and standing up for oneself.\\n- The music video was also praised for its creativity and visuals, and was seen as a showcase of Swift's creative and artistic vision.\\n\\nNegative responses:\\n- Some critics felt that the song's lyrics were too simplistic and lacked depth, and that its message was overly generic.\\n- The song's production was also criticized for being overly simplistic and lacking variety.\\n- Some fans felt that the song's lyrics were too personal and intrusive, and that Swift was crossing the line by writing about a specific person.\\n- The music video was also criticized for being overly extravagant and excessive, with some feeling that it was a waste of resources.\\n\\nHowever, overall, the response to \"Bad Blood\" was mixed, with both positive and negative comments being made.### Source: https://en.</td>\n",
       "    </tr>\n",
       "  </tbody>\n",
       "</table>"
      ],
      "text/plain": [
       "<IPython.core.display.HTML object>"
      ]
     },
     "metadata": {},
     "output_type": "display_data"
    }
   ],
   "source": [
    "try:\n",
    "    for i, datapoint in enumerate(test_dataset.select(range(2))):\n",
    "        predict_and_print(datapoint)\n",
    "\n",
    "    df = pd.DataFrame(\n",
    "        {\n",
    "            \"Inputs\": inputs,\n",
    "            \"Ground Truth\": ground_truth_responses,\n",
    "            \"Response from non-finetuned model\": responses_before_finetuning,\n",
    "            \"Response from fine-tuned model\": responses_after_finetuning,\n",
    "        }\n",
    "    )\n",
    "    #print(df.head())\n",
    "    display(HTML(df.to_html()))\n",
    "except Exception as e:\n",
    "    print(e)"
   ]
  }
 ],
 "metadata": {
  "kernelspec": {
   "display_name": "base",
   "language": "python",
   "name": "python3"
  },
  "language_info": {
   "codemirror_mode": {
    "name": "ipython",
    "version": 3
   },
   "file_extension": ".py",
   "mimetype": "text/x-python",
   "name": "python",
   "nbconvert_exporter": "python",
   "pygments_lexer": "ipython3",
   "version": "3.10.13"
  }
 },
 "nbformat": 4,
 "nbformat_minor": 2
}
