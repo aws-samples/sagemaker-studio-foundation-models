{
 "cells": [
  {
   "cell_type": "markdown",
   "id": "d6268e06-20fb-4ad7-bd47-5d51f7e59252",
   "metadata": {},
   "source": [
    "# Lab 03. Build Retrival Augmented Generation System using Amazon EMR Spark Distributed Processing and OpeSearch Vector Database "
   ]
  },
  {
   "cell_type": "markdown",
   "id": "9a4c7006-3446-41a6-a41a-d76875062d70",
   "metadata": {},
   "source": [
    "In this notebook we demonstrate how you can build a Retrival Augmented Generation System using the following components,\n",
    "1. Embedding Model: `all-MiniLM-L6-v2`\n",
    "2. Text Generation Model: `meta-/llama2-7b-chat`\n",
    "3. Vector Database: OpenSearch as Vector Database to store embeddings\n",
    "4. StreamLit UI: A Chat Interface to talk to your documents"
   ]
  },
  {
   "cell_type": "markdown",
   "id": "fafa23c1-aed3-41d8-bf4c-2e0ed9e3dcb0",
   "metadata": {},
   "source": [
    "<div style=\"background-color: #FFDDDD; border-left: 5px solid red; padding: 10px; color: black;\">\n",
    "    <strong>Kernel:</strong> Spark Analytics 2.0 [SparkMagic PySpark] <strong>Instance Type:</strong> ml.t3.medium\n",
    "</div>"
   ]
  },
  {
   "cell_type": "markdown",
   "id": "c9cf4391-89f7-424b-839e-5d92127aa83b",
   "metadata": {},
   "source": [
    "## Connect to an Existing EMR Cluster"
   ]
  },
  {
   "cell_type": "code",
   "execution_count": 42,
   "id": "d8c69a9a-6181-42e8-9b12-d0554b530e9b",
   "metadata": {
    "tags": []
   },
   "outputs": [],
   "source": [
    "%load_ext sagemaker_studio_analytics_extension.magics"
   ]
  },
  {
   "cell_type": "code",
   "execution_count": 43,
   "id": "a7e083fe-bd83-42bb-b75b-886263d1ee25",
   "metadata": {
    "tags": []
   },
   "outputs": [
    {
     "data": {
      "text/html": [
       "\n",
       "<table>\n",
       "  <tr>\n",
       "    <th>Magic</th>\n",
       "    <th>Example</th>\n",
       "    <th>Explanation</th>\n",
       "  </tr>\n",
       "  <tr>\n",
       "    <td>info</td>\n",
       "    <td>%%info</td>\n",
       "    <td>Outputs session information for the current Livy endpoint.</td>\n",
       "  </tr>\n",
       "  <tr>\n",
       "    <td>cleanup</td>\n",
       "    <td>%%cleanup -f</td>\n",
       "    <td>Deletes all sessions for the current Livy endpoint, including this notebook's session. The force flag is mandatory.</td>\n",
       "  </tr>\n",
       "  <tr>\n",
       "    <td>delete</td>\n",
       "    <td>%%delete -f -s 0</td>\n",
       "    <td>Deletes a session by number for the current Livy endpoint. Cannot delete this kernel's session.</td>\n",
       "  </tr>\n",
       "  <tr>\n",
       "    <td>logs</td>\n",
       "    <td>%%logs</td>\n",
       "    <td>Outputs the current session's Livy logs.</td>\n",
       "  </tr>\n",
       "  <tr>\n",
       "    <td>configure</td>\n",
       "    <td>%%configure -f<br/>{\"executorMemory\": \"1000M\", \"executorCores\": 4}</td>\n",
       "    <td>Configure the session creation parameters. The force flag is mandatory if a session has already been\n",
       "    created and the session will be dropped and recreated.<br/>Look at <a href=\"https://github.com/cloudera/livy#request-body\">\n",
       "    Livy's POST /sessions Request Body</a> for a list of valid parameters. Parameters must be passed in as a JSON string.</td>\n",
       "  </tr>\n",
       "  <tr>\n",
       "    <td>spark</td>\n",
       "    <td>%%spark -o df<br/>df = spark.read.parquet('...</td>\n",
       "    <td>Executes spark commands.\n",
       "    Parameters:\n",
       "      <ul>\n",
       "        <li>-o VAR_NAME: The Spark dataframe of name VAR_NAME will be available in the %%local Python context as a\n",
       "          <a href=\"http://pandas.pydata.org/\">Pandas</a> dataframe with the same name.</li>\n",
       "        <li>-m METHOD: Sample method, either <tt>take</tt> or <tt>sample</tt>.</li>\n",
       "        <li>-n MAXROWS: The maximum number of rows of a dataframe that will be pulled from Livy to Jupyter.\n",
       "            If this number is negative, then the number of rows will be unlimited.</li>\n",
       "        <li>-r FRACTION: Fraction used for sampling.</li>\n",
       "      </ul>\n",
       "    </td>\n",
       "  </tr>\n",
       "  <tr>\n",
       "    <td>sql</td>\n",
       "    <td>%%sql -o tables -q<br/>SHOW TABLES</td>\n",
       "    <td>Executes a SQL query against the variable sqlContext (Spark v1.x) or spark (Spark v2.x).\n",
       "    Parameters:\n",
       "      <ul>\n",
       "        <li>-o VAR_NAME: The result of the SQL query will be available in the %%local Python context as a\n",
       "          <a href=\"http://pandas.pydata.org/\">Pandas</a> dataframe.</li>\n",
       "        <li>-q: The magic will return None instead of the dataframe (no visualization).</li>\n",
       "        <li>-m, -n, -r are the same as the %%spark parameters above.</li>\n",
       "      </ul>\n",
       "    </td>\n",
       "  </tr>\n",
       "  <tr>\n",
       "    <td>local</td>\n",
       "    <td>%%local<br/>a = 1</td>\n",
       "    <td>All the code in subsequent lines will be executed locally. Code must be valid Python code.</td>\n",
       "  </tr>\n",
       "  <tr>\n",
       "    <td>send_to_spark</td>\n",
       "    <td>%%send_to_spark -i variable -t str -n var</td>\n",
       "    <td>Sends a variable from local output to spark cluster.\n",
       "    <br/>\n",
       "    Parameters:\n",
       "      <ul>\n",
       "        <li>-i VAR_NAME: Local Pandas DataFrame(or String) of name VAR_NAME will be available in the %%spark context as a \n",
       "          Spark dataframe(or String) with the same name.</li>\n",
       "        <li>-t TYPE: Specifies the type of variable passed as -i. Available options are:\n",
       "         `str` for string and `df` for Pandas DataFrame. Optional, defaults to `str`.</li>\n",
       "        <li>-n NAME: Custom name of variable passed as -i. Optional, defaults to -i variable name.</li>\n",
       "        <li>-m MAXROWS: Maximum amount of Pandas rows that will be sent to Spark. Defaults to 2500.</li>\n",
       "      </ul>\n",
       "    </td>\n",
       "  </tr>\n",
       "  <tr>\n",
       "    <td>pretty</td>\n",
       "    <td>%%pretty</td>\n",
       "    <td>If the cell output is a dataframe, like <code>df.show()</code>, then it will pretty print the dataframe as an HTML table</td>\n",
       "  </tr>\n",
       "</table>\n"
      ],
      "text/plain": [
       "<IPython.core.display.HTML object>"
      ]
     },
     "metadata": {},
     "output_type": "display_data"
    }
   ],
   "source": [
    "%%help"
   ]
  },
  {
   "cell_type": "code",
   "execution_count": 44,
   "id": "b4328a06-6afd-4f0e-8b8f-eb86162705a0",
   "metadata": {
    "tags": []
   },
   "outputs": [
    {
     "name": "stdout",
     "output_type": "stream",
     "text": [
      "Your EMR Cluster ID ---> \"j-1X3NLYY9GGED1\"\n"
     ]
    }
   ],
   "source": [
    "%%local\n",
    "!echo \"Your EMR Cluster ID ---> $(aws emr list-clusters | jq '.Clusters[0].Id')\""
   ]
  },
  {
   "cell_type": "code",
   "execution_count": 45,
   "id": "6dbf19ff-5da9-48d7-948a-f8f87054fea5",
   "metadata": {
    "tags": []
   },
   "outputs": [
    {
     "name": "stdout",
     "output_type": "stream",
     "text": [
      "Successfully read emr cluster(j-1X3NLYY9GGED1) details\n",
      "Initiating EMR connection..\n",
      "Starting Spark application\n"
     ]
    },
    {
     "data": {
      "text/html": [
       "<table>\n",
       "<tr><th>ID</th><th>YARN Application ID</th><th>Kind</th><th>State</th><th>Spark UI</th><th>Driver log</th><th>User</th><th>Current session?</th></tr><tr><td>1</td><td>application_1698947737982_0003</td><td>pyspark</td><td>idle</td><td><a target=\"_blank\" href=\"http://ip-10-0-20-38.us-west-2.compute.internal:20888/proxy/application_1698947737982_0003/\">Link</a></td><td><a target=\"_blank\" href=\"http://ip-10-0-20-114.us-west-2.compute.internal:8042/node/containerlogs/container_1698947737982_0003_01_000001/livy\">Link</a></td><td>None</td><td>✔</td></tr></table>"
      ],
      "text/plain": [
       "<IPython.core.display.HTML object>"
      ]
     },
     "metadata": {},
     "output_type": "display_data"
    },
    {
     "data": {
      "application/vnd.jupyter.widget-view+json": {
       "model_id": "",
       "version_major": 2,
       "version_minor": 0
      },
      "text/plain": [
       "FloatProgress(value=0.0, bar_style='info', description='Progress:', layout=Layout(height='25px', width='50%'),…"
      ]
     },
     "metadata": {},
     "output_type": "display_data"
    },
    {
     "name": "stdout",
     "output_type": "stream",
     "text": [
      "SparkSession available as 'spark'.\n",
      "{\"namespace\": \"sagemaker-analytics\", \"cluster_id\": \"j-1X3NLYY9GGED1\", \"error_message\": null, \"success\": true, \"service\": \"emr\", \"operation\": \"connect\"}\n"
     ]
    }
   ],
   "source": [
    "%sm_analytics emr connect --verify-certificate False --cluster-id j-1X3NLYY9GGED1 --auth-type None --language python  "
   ]
  },
  {
   "cell_type": "markdown",
   "id": "edcb60b5-97e5-460a-8049-c8ecbbe6b810",
   "metadata": {
    "tags": []
   },
   "source": [
    "## Upload Files from Local to S3"
   ]
  },
  {
   "cell_type": "code",
   "execution_count": 6,
   "id": "f5ee95b3-53d3-4d44-9c6a-11fa2d4efeff",
   "metadata": {
    "tags": []
   },
   "outputs": [
    {
     "name": "stdout",
     "output_type": "stream",
     "text": [
      "Requirement already satisfied: setuptools in /opt/conda/envs/sm_sparkmagic/lib/python3.10/site-packages (63.4.1)\n",
      "\u001b[33mWARNING: Running pip as the 'root' user can result in broken permissions and conflicting behaviour with the system package manager. It is recommended to use a virtual environment instead: https://pip.pypa.io/warnings/venv\u001b[0m\u001b[33m\n",
      "\u001b[0m\n",
      "\u001b[1m[\u001b[0m\u001b[34;49mnotice\u001b[0m\u001b[1;39;49m]\u001b[0m\u001b[39;49m A new release of pip available: \u001b[0m\u001b[31;49m23.2.1\u001b[0m\u001b[39;49m -> \u001b[0m\u001b[32;49m23.3.1\u001b[0m\n",
      "\u001b[1m[\u001b[0m\u001b[34;49mnotice\u001b[0m\u001b[1;39;49m]\u001b[0m\u001b[39;49m To update, run: \u001b[0m\u001b[32;49mpip install --upgrade pip\u001b[0m\n"
     ]
    }
   ],
   "source": [
    "%%local\n",
    "!python3 -m pip install setuptools"
   ]
  },
  {
   "cell_type": "code",
   "execution_count": 7,
   "id": "183cdac4-ca2e-4eee-9939-8b4c3c64af78",
   "metadata": {
    "scrolled": true,
    "tags": []
   },
   "outputs": [
    {
     "name": "stdout",
     "output_type": "stream",
     "text": [
      "Requirement already satisfied: sagemaker==2.192.0 in /opt/conda/envs/sm_sparkmagic/lib/python3.10/site-packages (2.192.0)\n",
      "Requirement already satisfied: PyYAML~=6.0 in /opt/conda/envs/sm_sparkmagic/lib/python3.10/site-packages/PyYAML-6.0-py3.10-linux-x86_64.egg (from sagemaker==2.192.0) (6.0)\n",
      "Requirement already satisfied: importlib-metadata<7.0,>=1.4.0 in /opt/conda/envs/sm_sparkmagic/lib/python3.10/site-packages (from sagemaker==2.192.0) (4.11.3)\n",
      "Requirement already satisfied: pandas in /opt/conda/envs/sm_sparkmagic/lib/python3.10/site-packages (from sagemaker==2.192.0) (1.5.3)\n",
      "Requirement already satisfied: jsonschema in /opt/conda/envs/sm_sparkmagic/lib/python3.10/site-packages (from sagemaker==2.192.0) (4.19.1)\n",
      "Requirement already satisfied: platformdirs in /opt/conda/envs/sm_sparkmagic/lib/python3.10/site-packages (from sagemaker==2.192.0) (2.5.2)\n",
      "Requirement already satisfied: packaging>=20.0 in /opt/conda/envs/sm_sparkmagic/lib/python3.10/site-packages (from sagemaker==2.192.0) (21.3)\n",
      "Requirement already satisfied: schema in /opt/conda/envs/sm_sparkmagic/lib/python3.10/site-packages (from sagemaker==2.192.0) (0.7.5)\n",
      "Requirement already satisfied: boto3<2.0,>=1.26.131 in /opt/conda/envs/sm_sparkmagic/lib/python3.10/site-packages (from sagemaker==2.192.0) (1.28.62)\n",
      "Requirement already satisfied: cloudpickle==2.2.1 in /opt/conda/envs/sm_sparkmagic/lib/python3.10/site-packages (from sagemaker==2.192.0) (2.2.1)\n",
      "Requirement already satisfied: pathos in /opt/conda/envs/sm_sparkmagic/lib/python3.10/site-packages (from sagemaker==2.192.0) (0.3.1)\n",
      "Requirement already satisfied: google-pasta in /opt/conda/envs/sm_sparkmagic/lib/python3.10/site-packages (from sagemaker==2.192.0) (0.2.0)\n",
      "Requirement already satisfied: tblib==1.7.0 in /opt/conda/envs/sm_sparkmagic/lib/python3.10/site-packages (from sagemaker==2.192.0) (1.7.0)\n",
      "Requirement already satisfied: numpy<2.0,>=1.9.0 in /opt/conda/envs/sm_sparkmagic/lib/python3.10/site-packages (from sagemaker==2.192.0) (1.26.0)\n",
      "Requirement already satisfied: attrs<24,>=23.1.0 in /opt/conda/envs/sm_sparkmagic/lib/python3.10/site-packages (from sagemaker==2.192.0) (23.1.0)\n",
      "Requirement already satisfied: smdebug-rulesconfig==1.0.1 in /opt/conda/envs/sm_sparkmagic/lib/python3.10/site-packages (from sagemaker==2.192.0) (1.0.1)\n",
      "Requirement already satisfied: protobuf<5.0,>=3.12 in /opt/conda/envs/sm_sparkmagic/lib/python3.10/site-packages (from sagemaker==2.192.0) (4.24.4)\n",
      "Requirement already satisfied: jmespath<2.0.0,>=0.7.1 in /opt/conda/envs/sm_sparkmagic/lib/python3.10/site-packages (from boto3<2.0,>=1.26.131->sagemaker==2.192.0) (0.10.0)\n",
      "Requirement already satisfied: botocore<1.32.0,>=1.31.62 in /opt/conda/envs/sm_sparkmagic/lib/python3.10/site-packages (from boto3<2.0,>=1.26.131->sagemaker==2.192.0) (1.31.62)\n",
      "Requirement already satisfied: s3transfer<0.8.0,>=0.7.0 in /opt/conda/envs/sm_sparkmagic/lib/python3.10/site-packages (from boto3<2.0,>=1.26.131->sagemaker==2.192.0) (0.7.0)\n",
      "Requirement already satisfied: zipp>=0.5 in /opt/conda/envs/sm_sparkmagic/lib/python3.10/site-packages (from importlib-metadata<7.0,>=1.4.0->sagemaker==2.192.0) (3.8.0)\n",
      "Requirement already satisfied: pyparsing!=3.0.5,>=2.0.2 in /opt/conda/envs/sm_sparkmagic/lib/python3.10/site-packages (from packaging>=20.0->sagemaker==2.192.0) (3.0.9)\n",
      "Requirement already satisfied: six in /opt/conda/envs/sm_sparkmagic/lib/python3.10/site-packages (from google-pasta->sagemaker==2.192.0) (1.16.0)\n",
      "Requirement already satisfied: jsonschema-specifications>=2023.03.6 in /opt/conda/envs/sm_sparkmagic/lib/python3.10/site-packages (from jsonschema->sagemaker==2.192.0) (2023.7.1)\n",
      "Requirement already satisfied: rpds-py>=0.7.1 in /opt/conda/envs/sm_sparkmagic/lib/python3.10/site-packages (from jsonschema->sagemaker==2.192.0) (0.10.6)\n",
      "Requirement already satisfied: referencing>=0.28.4 in /opt/conda/envs/sm_sparkmagic/lib/python3.10/site-packages (from jsonschema->sagemaker==2.192.0) (0.30.2)\n",
      "Requirement already satisfied: python-dateutil>=2.8.1 in /opt/conda/envs/sm_sparkmagic/lib/python3.10/site-packages (from pandas->sagemaker==2.192.0) (2.8.2)\n",
      "Requirement already satisfied: pytz>=2020.1 in /opt/conda/envs/sm_sparkmagic/lib/python3.10/site-packages (from pandas->sagemaker==2.192.0) (2023.3.post1)\n",
      "Requirement already satisfied: ppft>=1.7.6.7 in /opt/conda/envs/sm_sparkmagic/lib/python3.10/site-packages (from pathos->sagemaker==2.192.0) (1.7.6.7)\n",
      "Requirement already satisfied: multiprocess>=0.70.15 in /opt/conda/envs/sm_sparkmagic/lib/python3.10/site-packages (from pathos->sagemaker==2.192.0) (0.70.15)\n",
      "Requirement already satisfied: dill>=0.3.7 in /opt/conda/envs/sm_sparkmagic/lib/python3.10/site-packages (from pathos->sagemaker==2.192.0) (0.3.7)\n",
      "Requirement already satisfied: pox>=0.3.3 in /opt/conda/envs/sm_sparkmagic/lib/python3.10/site-packages (from pathos->sagemaker==2.192.0) (0.3.3)\n",
      "Requirement already satisfied: contextlib2>=0.5.5 in /opt/conda/envs/sm_sparkmagic/lib/python3.10/site-packages (from schema->sagemaker==2.192.0) (21.6.0)\n",
      "Requirement already satisfied: urllib3<2.1,>=1.25.4 in /opt/conda/envs/sm_sparkmagic/lib/python3.10/site-packages (from botocore<1.32.0,>=1.31.62->boto3<2.0,>=1.26.131->sagemaker==2.192.0) (2.0.6)\n",
      "\u001b[33mWARNING: Running pip as the 'root' user can result in broken permissions and conflicting behaviour with the system package manager. It is recommended to use a virtual environment instead: https://pip.pypa.io/warnings/venv\u001b[0m\u001b[33m\n",
      "\u001b[0m\n",
      "\u001b[1m[\u001b[0m\u001b[34;49mnotice\u001b[0m\u001b[1;39;49m]\u001b[0m\u001b[39;49m A new release of pip available: \u001b[0m\u001b[31;49m23.2.1\u001b[0m\u001b[39;49m -> \u001b[0m\u001b[32;49m23.3.1\u001b[0m\n",
      "\u001b[1m[\u001b[0m\u001b[34;49mnotice\u001b[0m\u001b[1;39;49m]\u001b[0m\u001b[39;49m To update, run: \u001b[0m\u001b[32;49mpip install --upgrade pip\u001b[0m\n"
     ]
    }
   ],
   "source": [
    "%%local\n",
    "!python3 -m pip install sagemaker==2.192.0"
   ]
  },
  {
   "cell_type": "code",
   "execution_count": 37,
   "id": "e9a3b0d4-0e93-45ab-ab2c-b18e3bfd8853",
   "metadata": {
    "tags": []
   },
   "outputs": [],
   "source": [
    "%%local\n",
    "import os\n",
    "import json\n",
    "import glob\n",
    "import boto3\n",
    "import sagemaker\n",
    "from tqdm import tqdm"
   ]
  },
  {
   "cell_type": "code",
   "execution_count": 115,
   "id": "007d33fd-40c4-4d3e-bab3-df14978cf658",
   "metadata": {
    "tags": []
   },
   "outputs": [
    {
     "name": "stdout",
     "output_type": "stream",
     "text": [
      "sagemaker.config INFO - Not applying SDK defaults from location: /etc/xdg/sagemaker/config.yaml\n",
      "sagemaker.config INFO - Not applying SDK defaults from location: /root/.config/sagemaker/config.yaml\n",
      "Using default bucket ---> sagemaker-us-west-2-476113589923\n"
     ]
    }
   ],
   "source": [
    "%%local\n",
    "REGION = \"us-west-2\"\n",
    "sess = sagemaker.Session()\n",
    "default_bucket = sess.default_bucket()\n",
    "s3_client = boto3.client(\"s3\")\n",
    "print(f\"Using default bucket ---> {default_bucket}\")"
   ]
  },
  {
   "cell_type": "markdown",
   "id": "8b6690bd-76b5-40e9-acf9-98bb43f19733",
   "metadata": {},
   "source": [
    "A few sample files are available in directory under ./AWSGuides/, these are sample documents we'll be using to build our RAG application."
   ]
  },
  {
   "cell_type": "code",
   "execution_count": 39,
   "id": "92cb76b3-e96b-4b70-bd12-5d3dacae6514",
   "metadata": {
    "tags": []
   },
   "outputs": [
    {
     "name": "stdout",
     "output_type": "stream",
     "text": [
      "Uploading ---> 3 files!\n"
     ]
    },
    {
     "name": "stderr",
     "output_type": "stream",
     "text": [
      "100%|██████████| 3/3 [00:01<00:00,  2.73it/s]"
     ]
    },
    {
     "name": "stdout",
     "output_type": "stream",
     "text": [
      "Uploaded files to ---> ['s3://sagemaker-us-west-2-476113589923/Lab03/raw-pdfs/S3DeveloperGuide.pdf', 's3://sagemaker-us-west-2-476113589923/Lab03/raw-pdfs/AmazonSageMakerDeveloperGuide.pdf', 's3://sagemaker-us-west-2-476113589923/Lab03/raw-pdfs/EC2DeveloperGuide.pdf']\n"
     ]
    },
    {
     "name": "stderr",
     "output_type": "stream",
     "text": [
      "\n"
     ]
    }
   ],
   "source": [
    "%%local\n",
    "def upload_raw_pdf_files_to_bucket(destination_bucket, destination_prefix, raw_pdf_files):\n",
    "    \n",
    "    print(f\"Uploading ---> {len(raw_pdf_files)} files!\")\n",
    "    \n",
    "    uploaded_file_s3uris = []\n",
    "    for pdf_file in tqdm(raw_pdf_files, total=len(raw_pdf_files)):\n",
    "        pdf_fname = os.path.basename(pdf_file).replace(\",\", \"\").replace(\" \", \"-\")\n",
    "        \n",
    "        pdf_dest_prefix = os.path.join(destination_prefix, pdf_fname)\n",
    "        \n",
    "        s3_client.upload_file(\n",
    "            pdf_file, \n",
    "            destination_bucket, \n",
    "            pdf_dest_prefix\n",
    "        )\n",
    "        uploaded_file_s3uris.append(f\"s3://{destination_bucket}/{pdf_dest_prefix}\")\n",
    "    \n",
    "    return uploaded_file_s3uris\n",
    "\n",
    "pdf_files_to_upload = glob.glob(\"./AWSGuides/*.pdf\")\n",
    "\n",
    "destination_prefix = \"Lab03/raw-pdfs\"\n",
    "\n",
    "files_paths_in_s3 = upload_raw_pdf_files_to_bucket(\n",
    "    destination_bucket=default_bucket, \n",
    "    destination_prefix=destination_prefix,\n",
    "    raw_pdf_files=pdf_files_to_upload\n",
    ")\n",
    "\n",
    "print(f\"Uploaded files to ---> {files_paths_in_s3}\")"
   ]
  },
  {
   "cell_type": "markdown",
   "id": "d6b03af6-cea3-46b7-8130-e7a343fa5292",
   "metadata": {},
   "source": [
    "Let's send these variables from our local instance to Pyspark Primary node using a simple \n",
    "\n",
    "`%%send_to_spark` command"
   ]
  },
  {
   "cell_type": "code",
   "execution_count": 116,
   "id": "75247162-c86a-46fb-b61d-3fb810e42ed5",
   "metadata": {
    "tags": []
   },
   "outputs": [
    {
     "data": {
      "application/vnd.jupyter.widget-view+json": {
       "model_id": "",
       "version_major": 2,
       "version_minor": 0
      },
      "text/plain": [
       "FloatProgress(value=0.0, bar_style='info', description='Progress:', layout=Layout(height='25px', width='50%'),…"
      ]
     },
     "metadata": {},
     "output_type": "display_data"
    },
    {
     "name": "stdout",
     "output_type": "stream",
     "text": [
      "Successfully passed 'REGION' as 'REGION' to Spark kernel"
     ]
    }
   ],
   "source": [
    "%%send_to_spark -i REGION -t str -n REGION"
   ]
  },
  {
   "cell_type": "code",
   "execution_count": 46,
   "id": "1a3b1188-b923-4393-8a79-35c9473af586",
   "metadata": {
    "tags": []
   },
   "outputs": [
    {
     "data": {
      "application/vnd.jupyter.widget-view+json": {
       "model_id": "",
       "version_major": 2,
       "version_minor": 0
      },
      "text/plain": [
       "FloatProgress(value=0.0, bar_style='info', description='Progress:', layout=Layout(height='25px', width='50%'),…"
      ]
     },
     "metadata": {},
     "output_type": "display_data"
    },
    {
     "name": "stdout",
     "output_type": "stream",
     "text": [
      "Successfully passed 'destination_prefix' as 'SRC_FILE_PREFIX' to Spark kernel"
     ]
    }
   ],
   "source": [
    "%%send_to_spark -i destination_prefix -t str -n SRC_FILE_PREFIX"
   ]
  },
  {
   "cell_type": "code",
   "execution_count": 47,
   "id": "a7088e24-31b6-4e1b-8d07-7145c2551df3",
   "metadata": {
    "tags": []
   },
   "outputs": [
    {
     "data": {
      "application/vnd.jupyter.widget-view+json": {
       "model_id": "",
       "version_major": 2,
       "version_minor": 0
      },
      "text/plain": [
       "FloatProgress(value=0.0, bar_style='info', description='Progress:', layout=Layout(height='25px', width='50%'),…"
      ]
     },
     "metadata": {},
     "output_type": "display_data"
    },
    {
     "name": "stdout",
     "output_type": "stream",
     "text": [
      "Successfully passed 'default_bucket' as 'SRC_BUCKET_NAME' to Spark kernel"
     ]
    }
   ],
   "source": [
    "%%send_to_spark -i default_bucket -t str -n SRC_BUCKET_NAME"
   ]
  },
  {
   "cell_type": "markdown",
   "id": "9eb76b80-4ffa-453d-abc4-d63e84ef45f8",
   "metadata": {
    "tags": []
   },
   "source": [
    "## Lets Convert PDF into Text"
   ]
  },
  {
   "cell_type": "code",
   "execution_count": 86,
   "id": "a24cf1a1-a2ef-4e44-b95a-9d4958cac47d",
   "metadata": {
    "tags": []
   },
   "outputs": [
    {
     "data": {
      "application/vnd.jupyter.widget-view+json": {
       "model_id": "",
       "version_major": 2,
       "version_minor": 0
      },
      "text/plain": [
       "FloatProgress(value=0.0, bar_style='info', description='Progress:', layout=Layout(height='25px', width='50%'),…"
      ]
     },
     "metadata": {},
     "output_type": "display_data"
    }
   ],
   "source": [
    "import os\n",
    "import boto3\n",
    "import json\n",
    "from PyPDF2 import PdfReader\n",
    "from langchain.text_splitter import CharacterTextSplitter, RecursiveCharacterTextSplitter\n",
    "from langchain.document_loaders import PyPDFLoader, PyPDFDirectoryLoader\n",
    "import io"
   ]
  },
  {
   "cell_type": "code",
   "execution_count": 87,
   "id": "8d9adac1-5351-4439-af37-bab508ecdb8b",
   "metadata": {
    "tags": []
   },
   "outputs": [
    {
     "data": {
      "application/vnd.jupyter.widget-view+json": {
       "model_id": "",
       "version_major": 2,
       "version_minor": 0
      },
      "text/plain": [
       "FloatProgress(value=0.0, bar_style='info', description='Progress:', layout=Layout(height='25px', width='50%'),…"
      ]
     },
     "metadata": {},
     "output_type": "display_data"
    },
    {
     "name": "stdout",
     "output_type": "stream",
     "text": [
      "Source bucket and prefix to read pdf files ---> sagemaker-us-west-2-476113589923 Lab03/raw-pdfs"
     ]
    }
   ],
   "source": [
    "print(f\"Source bucket and prefix to read pdf files ---> {SRC_BUCKET_NAME} {SRC_FILE_PREFIX}\")"
   ]
  },
  {
   "cell_type": "code",
   "execution_count": 88,
   "id": "cc3a4611-8edb-446a-97f3-b34562afdfc6",
   "metadata": {
    "tags": []
   },
   "outputs": [
    {
     "data": {
      "application/vnd.jupyter.widget-view+json": {
       "model_id": "",
       "version_major": 2,
       "version_minor": 0
      },
      "text/plain": [
       "FloatProgress(value=0.0, bar_style='info', description='Progress:', layout=Layout(height='25px', width='50%'),…"
      ]
     },
     "metadata": {},
     "output_type": "display_data"
    },
    {
     "name": "stdout",
     "output_type": "stream",
     "text": [
      "Found 3 files ---> ['Lab03/raw-pdfs/AmazonSageMakerDeveloperGuide.pdf', 'Lab03/raw-pdfs/EC2DeveloperGuide.pdf', 'Lab03/raw-pdfs/S3DeveloperGuide.pdf']"
     ]
    }
   ],
   "source": [
    "def list_files_in_s3_bucket_prefix(bucket_name, prefix):\n",
    "    \n",
    "    s3 = boto3.client('s3')\n",
    "\n",
    "    # Paginate through the objects in the specified bucket and prefix, and collect all keys (file paths)\n",
    "    paginator = s3.get_paginator('list_objects_v2')\n",
    "    page_iterator = paginator.paginate(Bucket=bucket_name, Prefix=prefix)\n",
    "\n",
    "    file_paths = []\n",
    "    for page in page_iterator:\n",
    "        if \"Contents\" in page:\n",
    "            for obj in page[\"Contents\"]:\n",
    "                if os.path.basename(obj[\"Key\"]):\n",
    "                    file_paths.append(obj[\"Key\"])\n",
    "\n",
    "    return file_paths\n",
    "\n",
    "all_pdf_files = list_files_in_s3_bucket_prefix(\n",
    "    bucket_name=SRC_BUCKET_NAME, \n",
    "    prefix=SRC_FILE_PREFIX\n",
    ")\n",
    "print(f\"Found {len(all_pdf_files)} files ---> {all_pdf_files}\")"
   ]
  },
  {
   "cell_type": "markdown",
   "id": "bca227df-c358-4074-bd80-fbbe15b850ae",
   "metadata": {},
   "source": [
    "Let's prep a list to process files along with bucket names "
   ]
  },
  {
   "cell_type": "code",
   "execution_count": 89,
   "id": "3c20c47e-ef4d-44b9-b0e4-64fda6f4358e",
   "metadata": {
    "tags": []
   },
   "outputs": [
    {
     "data": {
      "application/vnd.jupyter.widget-view+json": {
       "model_id": "",
       "version_major": 2,
       "version_minor": 0
      },
      "text/plain": [
       "FloatProgress(value=0.0, bar_style='info', description='Progress:', layout=Layout(height='25px', width='50%'),…"
      ]
     },
     "metadata": {},
     "output_type": "display_data"
    },
    {
     "name": "stdout",
     "output_type": "stream",
     "text": [
      "<class 'list'>"
     ]
    }
   ],
   "source": [
    "all_pdf_files = [(SRC_BUCKET_NAME, fpath) for fpath in all_pdf_files]\n",
    "type(all_pdf_files)"
   ]
  },
  {
   "cell_type": "markdown",
   "id": "1c20da11-468b-4038-9605-c1bc86fec182",
   "metadata": {},
   "source": [
    "Let's convert our list to a spark RDD for parallelization of our list"
   ]
  },
  {
   "cell_type": "code",
   "execution_count": 90,
   "id": "b2430d20-4b34-46fc-b939-9071a0396b42",
   "metadata": {
    "tags": []
   },
   "outputs": [
    {
     "data": {
      "application/vnd.jupyter.widget-view+json": {
       "model_id": "",
       "version_major": 2,
       "version_minor": 0
      },
      "text/plain": [
       "FloatProgress(value=0.0, bar_style='info', description='Progress:', layout=Layout(height='25px', width='50%'),…"
      ]
     },
     "metadata": {},
     "output_type": "display_data"
    },
    {
     "name": "stdout",
     "output_type": "stream",
     "text": [
      "<class 'pyspark.rdd.RDD'>"
     ]
    }
   ],
   "source": [
    "pdfs_rdd = spark.sparkContext.parallelize(all_pdf_files)\n",
    "type(pdfs_rdd)"
   ]
  },
  {
   "cell_type": "markdown",
   "id": "ed1f3c93-6c8b-45a1-9e3b-973efc71457e",
   "metadata": {
    "tags": []
   },
   "source": [
    "Each code node reaches out a pdf file from our list, downloads the pdf file into memory and returns a PyPDF2 class reference for downstream workloads\n",
    "\n",
    "![EMR Read PDFs into Memory](./media/EMR-Doc-Read.jpg)"
   ]
  },
  {
   "cell_type": "code",
   "execution_count": 91,
   "id": "af4b0c93-4f4c-4870-a819-216358d863ca",
   "metadata": {
    "tags": []
   },
   "outputs": [
    {
     "data": {
      "application/vnd.jupyter.widget-view+json": {
       "model_id": "",
       "version_major": 2,
       "version_minor": 0
      },
      "text/plain": [
       "FloatProgress(value=0.0, bar_style='info', description='Progress:', layout=Layout(height='25px', width='50%'),…"
      ]
     },
     "metadata": {},
     "output_type": "display_data"
    }
   ],
   "source": [
    "def load_pdf_from_s3_into_memory(row):\n",
    "    \"\"\"\n",
    "    Load a PDF file from an S3 bucket directly into memory.\n",
    "    \"\"\"\n",
    "    try:\n",
    "        src_bucket_name, src_file_key = row \n",
    "        s3 = boto3.client('s3')\n",
    "        pdf_file = io.BytesIO()\n",
    "        s3.download_fileobj(src_bucket_name, src_file_key, pdf_file)\n",
    "        pdf_file.seek(0)\n",
    "        pdf_reader = PdfReader(pdf_file)\n",
    "        return (src_file_key, pdf_reader, len(pdf_reader.pages))\n",
    "    \n",
    "    except Exception as e:    \n",
    "        return (os.path.basename(src_file_key), str(e))"
   ]
  },
  {
   "cell_type": "markdown",
   "id": "c536e2f8-c27c-46de-8a1f-c0d24fabb55e",
   "metadata": {},
   "source": [
    "Let's concurrently load pdf files into memory using rdd map and collect the results back to our Primary Node"
   ]
  },
  {
   "cell_type": "code",
   "execution_count": 92,
   "id": "387ff3c4-665a-4d9d-8c86-016c78a24e57",
   "metadata": {
    "tags": []
   },
   "outputs": [
    {
     "data": {
      "application/vnd.jupyter.widget-view+json": {
       "model_id": "",
       "version_major": 2,
       "version_minor": 0
      },
      "text/plain": [
       "FloatProgress(value=0.0, bar_style='info', description='Progress:', layout=Layout(height='25px', width='50%'),…"
      ]
     },
     "metadata": {},
     "output_type": "display_data"
    }
   ],
   "source": [
    "pdfs_in_memory = pdfs_rdd.map(load_pdf_from_s3_into_memory).collect()"
   ]
  },
  {
   "cell_type": "code",
   "execution_count": 94,
   "id": "0acf5a1c-b0c1-440e-aaa3-deec729e4e35",
   "metadata": {
    "tags": []
   },
   "outputs": [
    {
     "data": {
      "application/vnd.jupyter.widget-view+json": {
       "model_id": "",
       "version_major": 2,
       "version_minor": 0
      },
      "text/plain": [
       "FloatProgress(value=0.0, bar_style='info', description='Progress:', layout=Layout(height='25px', width='50%'),…"
      ]
     },
     "metadata": {},
     "output_type": "display_data"
    },
    {
     "data": {
      "image/png": "[encoded data removed]",
      "text/plain": [
       "<IPython.core.display.Image object>"
      ]
     },
     "metadata": {},
     "output_type": "display_data"
    }
   ],
   "source": [
    "import numpy as np\n",
    "import matplotlib.pyplot as plt\n",
    "\n",
    "x_labels = [pdfx.split('/')[-1] for pdfx, _, _ in pdfs_in_memory]\n",
    "y_values = [pages_count for _, _, pages_count in pdfs_in_memory]\n",
    "x = range(len(y_values))\n",
    "\n",
    "# Create a figure and a set of subplots\n",
    "fig, axs = plt.subplots(2, 1, figsize=(10, 10))\n",
    "\n",
    "# First Subplot: Bar Chart\n",
    "axs[0].bar(x, y_values, color=['red', 'green', 'blue'])\n",
    "axs[0].set_title('Bar Chart')\n",
    "axs[0].set_xticks(x)\n",
    "axs[0].set_xticklabels(x_labels, rotation=45, ha=\"right\")\n",
    "axs[0].set_ylabel('Pdf Pages Count --->')\n",
    "\n",
    "_bottom = 0\n",
    "for (pdf_name, page_count, color) in zip(x_labels, y_values, ['red', 'green', 'blue']):\n",
    "    axs[1].bar([0], [page_count], bottom=_bottom, color=color, label=pdf_name)\n",
    "    _bottom += page_count\n",
    "axs[1].set_title('Stacked Bar Chart')\n",
    "axs[1].set_xticks([0])\n",
    "axs[1].set_xticklabels(['Documents'], rotation=45, ha=\"right\")\n",
    "axs[1].set_ylabel('Stacked Pages Count --->')\n",
    "\n",
    "# Add a legend to the second subplot\n",
    "axs[1].legend()\n",
    "\n",
    "# Adjust the layout\n",
    "plt.tight_layout()\n",
    "\n",
    "# Show the plot\n",
    "plt.show()\n",
    "\n",
    "%matplot plt"
   ]
  },
  {
   "cell_type": "code",
   "execution_count": 95,
   "id": "c822bd81-bf8e-43ab-94dd-4185750baff1",
   "metadata": {
    "tags": []
   },
   "outputs": [
    {
     "data": {
      "application/vnd.jupyter.widget-view+json": {
       "model_id": "",
       "version_major": 2,
       "version_minor": 0
      },
      "text/plain": [
       "FloatProgress(value=0.0, bar_style='info', description='Progress:', layout=Layout(height='25px', width='50%'),…"
      ]
     },
     "metadata": {},
     "output_type": "display_data"
    }
   ],
   "source": [
    "class CustomDocument:\n",
    "    def __init__(self, text, path, number):\n",
    "        self.page_content = text\n",
    "        self.metadata = {\n",
    "            'source': path, \n",
    "            'page': number  \n",
    "        }\n",
    "\n",
    "    def __repr__(self):\n",
    "        # This method is for representing the object in a way that’s clear to a human (also can be used for debugging)\n",
    "        return f\"Document(page_content='{self.page_content}', metadata={self.metadata})\"\n",
    "\n",
    "    # Optionally, if you need a string representation of the instance that is more user-friendly, \n",
    "    # you can implement the __str__ method\n",
    "    def __str__(self):\n",
    "        return f\"Page Content: {self.page_content}\\nSource: {self.metadata['source']}\\nPage Number: {self.metadata['page']}\"\n",
    "    \n",
    "def extract_text_from_pdf_reader(row):\n",
    "    \"\"\" \n",
    "    Extract text from a page of the document \n",
    "    \"\"\"\n",
    "    try:\n",
    "        doc_path, page_num = row\n",
    "        page_text = global_pdfs_in_mem_dict[doc_path].pages[page_num].extract_text()\n",
    "        return page_text, doc_path, page_num\n",
    "    except Exception as e:\n",
    "        return str(e), doc_path, page_num"
   ]
  },
  {
   "cell_type": "code",
   "execution_count": 96,
   "id": "44a2aca6-3ef8-4620-b70d-b4fd99340c71",
   "metadata": {
    "tags": []
   },
   "outputs": [
    {
     "data": {
      "application/vnd.jupyter.widget-view+json": {
       "model_id": "",
       "version_major": 2,
       "version_minor": 0
      },
      "text/plain": [
       "FloatProgress(value=0.0, bar_style='info', description='Progress:', layout=Layout(height='25px', width='50%'),…"
      ]
     },
     "metadata": {},
     "output_type": "display_data"
    }
   ],
   "source": [
    "global_pdfs_in_mem_dict = {_key: pdf_reader for _key, pdf_reader, _ in pdfs_in_memory}"
   ]
  },
  {
   "cell_type": "code",
   "execution_count": 97,
   "id": "6709d8df-5cdf-48be-9f16-93e5b7a8f031",
   "metadata": {
    "tags": []
   },
   "outputs": [
    {
     "data": {
      "application/vnd.jupyter.widget-view+json": {
       "model_id": "",
       "version_major": 2,
       "version_minor": 0
      },
      "text/plain": [
       "FloatProgress(value=0.0, bar_style='info', description='Progress:', layout=Layout(height='25px', width='50%'),…"
      ]
     },
     "metadata": {},
     "output_type": "display_data"
    },
    {
     "name": "stdout",
     "output_type": "stream",
     "text": [
      "Created 2306 parallel instances to process!"
     ]
    }
   ],
   "source": [
    "docs_instances = []\n",
    "for (file_src, _, page_count) in pdfs_in_memory:\n",
    "    for pg_num in range(page_count):\n",
    "        docs_instances.append((file_src, pg_num))\n",
    "print(f\"Created {len(docs_instances)} parallel instances to process!\")"
   ]
  },
  {
   "cell_type": "code",
   "execution_count": 98,
   "id": "364e3544-30c3-40f1-be45-84d3fc9d9133",
   "metadata": {
    "tags": []
   },
   "outputs": [
    {
     "data": {
      "application/vnd.jupyter.widget-view+json": {
       "model_id": "",
       "version_major": 2,
       "version_minor": 0
      },
      "text/plain": [
       "FloatProgress(value=0.0, bar_style='info', description='Progress:', layout=Layout(height='25px', width='50%'),…"
      ]
     },
     "metadata": {},
     "output_type": "display_data"
    }
   ],
   "source": [
    "docs_instances_rdd = spark.sparkContext.parallelize(docs_instances)"
   ]
  },
  {
   "cell_type": "markdown",
   "id": "064c5d70-cfb8-4d34-86a6-0091ee8a2a20",
   "metadata": {},
   "source": [
    "Every PDF document has 'n' pages to process, this task can be executed in a parallel fashion using Spark Processing. \n",
    "\n",
    "Each Document is split page by page, each page from a global reference of in memory pdfs.\n",
    "\n",
    "![PageLevelProcessingEMRPDFtoTxt](./media/PageLevelProcessingEMRPDFtoTxt.jpg)"
   ]
  },
  {
   "cell_type": "code",
   "execution_count": 99,
   "id": "19adf08d-898a-4d29-ab3a-b879aed47bde",
   "metadata": {
    "tags": []
   },
   "outputs": [
    {
     "data": {
      "application/vnd.jupyter.widget-view+json": {
       "model_id": "",
       "version_major": 2,
       "version_minor": 0
      },
      "text/plain": [
       "FloatProgress(value=0.0, bar_style='info', description='Progress:', layout=Layout(height='25px', width='50%'),…"
      ]
     },
     "metadata": {},
     "output_type": "display_data"
    }
   ],
   "source": [
    "documents = docs_instances_rdd.map(extract_text_from_pdf_reader).collect()\n",
    "documents_custom = [\n",
    "    CustomDocument(text=text, path=doc_source, number=page_num) \n",
    "    for text, doc_source, page_num in documents\n",
    "]"
   ]
  },
  {
   "cell_type": "code",
   "execution_count": 101,
   "id": "0c647d26-7e0a-4bf1-ae1c-91f543d431a4",
   "metadata": {
    "tags": []
   },
   "outputs": [
    {
     "data": {
      "application/vnd.jupyter.widget-view+json": {
       "model_id": "",
       "version_major": 2,
       "version_minor": 0
      },
      "text/plain": [
       "FloatProgress(value=0.0, bar_style='info', description='Progress:', layout=Layout(height='25px', width='50%'),…"
      ]
     },
     "metadata": {},
     "output_type": "display_data"
    },
    {
     "name": "stdout",
     "output_type": "stream",
     "text": [
      "Document(page_content='Amazon SageMaker Developer Guide\n",
      "Image Classiﬁcation Algorithm\n",
      "ResourceConﬁg (p. 667)\n",
      "The resources, including the ML compute instances and ML storage volumes, to use for\n",
      "model training.\n",
      "ML storage volumes store model artifacts and incremental states. Training algorithms\n",
      "might also use ML storage volumes for scratch space. If you want Amazon SageMaker\n",
      "to use the ML storage volume to store the training data, choose File  as the\n",
      "TrainingInputMode  in the algorithm speciﬁcation. For distributed training algorithms,\n",
      "specify an instance count greater than 1.\n",
      "Type: ResourceConﬁg (p. 991) object\n",
      "Required: Yes\n",
      "RoleArn (p. 667)\n",
      "The Amazon Resource Name (ARN) of an IAM role that Amazon SageMaker can assume to\n",
      "perform tasks on your behalf.\n",
      "During model training, Amazon SageMaker needs your permission to read input data\n",
      "from an S3 bucket, download a Docker image that contains training code, write model\n",
      "artifacts to an S3 bucket, write logs to Amazon CloudWatch Logs, and publish metrics\n",
      "to Amazon CloudWatch. You grant permissions for all of these tasks to an IAM role. For\n",
      "more information, see Amazon SageMaker Roles.\n",
      "Note\n",
      "To be able to pass this role to Amazon SageMaker, the caller of this API must\n",
      "have the iam:PassRole  permission.\n",
      "Type: String\n",
      "Length Constraints: Minimum length of 20. Maximum length of 2048.\n",
      "Pattern: ^arn:aws[a-z\\-]*:iam::\\d{12}:role/?[a-zA-Z_0-9+=,.@\\-_/]+$\n",
      "Required: Yes\n",
      "StoppingCondition  (p. 667)\n",
      "Speciﬁes a limit to how long a model training job can run. When the job reaches the time\n",
      "limit, Amazon SageMaker ends the training job. Use this API to cap model training costs.\n",
      "To stop a job, Amazon SageMaker sends the algorithm the SIGTERM signal, which delays\n",
      "job termination for 120 seconds. Algorithms can use this 120-second window to save the\n",
      "model artifacts, so the results of training are not lost.\n",
      "Type: StoppingCondition  (p. 1004 ) object\n",
      "Required: Yes\n",
      "Tags (p. 667)\n",
      "An array of key-value pairs. For more information, see Using Cost Allocation Tags in the\n",
      "AWS Billing and Cost Management User Guide.\n",
      "Type: Array of Tag (p. 1008 ) objects\n",
      "Array Members: Minimum number of 0 items. Maximum number of 50 items.\n",
      "Required: No\n",
      "TrainingJobName (p. 667)\n",
      "The name of the training job. The name must be unique within an AWS Region in an AWS\n",
      "account.\n",
      "114', metadata={'source': 'Lab03/raw-pdfs/AmazonSageMakerDeveloperGuide.pdf', 'page': 121})"
     ]
    }
   ],
   "source": [
    "documents_custom[121]"
   ]
  },
  {
   "cell_type": "markdown",
   "id": "5bc9a7d8-8ac5-4313-b255-abd779ac7277",
   "metadata": {},
   "source": [
    "We split pages using a reference chunk size, chunk size is an experimental value. To learn more about chunk size and how RecursiveCharacterTextSplitter, see: https://python.langchain.com/docs/modules/data_connection/document_transformers/text_splitters/recursive_text_splitter"
   ]
  },
  {
   "cell_type": "code",
   "execution_count": 102,
   "id": "3d6789c4-9b7c-4fe3-93e3-2533513ea404",
   "metadata": {
    "tags": []
   },
   "outputs": [
    {
     "data": {
      "application/vnd.jupyter.widget-view+json": {
       "model_id": "",
       "version_major": 2,
       "version_minor": 0
      },
      "text/plain": [
       "FloatProgress(value=0.0, bar_style='info', description='Progress:', layout=Layout(height='25px', width='50%'),…"
      ]
     },
     "metadata": {},
     "output_type": "display_data"
    },
    {
     "name": "stdout",
     "output_type": "stream",
     "text": [
      "Total number of docs pre-split 2306 | after split 7732"
     ]
    }
   ],
   "source": [
    "global_text_splitter = RecursiveCharacterTextSplitter(\n",
    "    chunk_size=750,\n",
    "    chunk_overlap=10\n",
    ")\n",
    "docs = global_text_splitter.split_documents(documents_custom)\n",
    "print(f\"Total number of docs pre-split {len(documents_custom)} | after split {len(docs)}\")"
   ]
  },
  {
   "cell_type": "code",
   "execution_count": 112,
   "id": "47d41678-45aa-4731-9429-a5a00c1e5cd4",
   "metadata": {
    "tags": []
   },
   "outputs": [
    {
     "data": {
      "application/vnd.jupyter.widget-view+json": {
       "model_id": "",
       "version_major": 2,
       "version_minor": 0
      },
      "text/plain": [
       "FloatProgress(value=0.0, bar_style='info', description='Progress:', layout=Layout(height='25px', width='50%'),…"
      ]
     },
     "metadata": {},
     "output_type": "display_data"
    },
    {
     "data": {
      "image/png": "[encoded data removed]",
      "text/plain": [
       "<IPython.core.display.Image object>"
      ]
     },
     "metadata": {},
     "output_type": "display_data"
    }
   ],
   "source": [
    "# create data\n",
    "plt.clf()\n",
    "\n",
    "x_labels = [\"Pre-Split\", \"Post Split\"]\n",
    "y = [len(documents_custom), len(docs)]\n",
    "x = range(len(x_labels))\n",
    "\n",
    "fig, axs = plt.subplots(1, 1, figsize=(7, 5))\n",
    "\n",
    "# First Subplot: Bar Chart\n",
    "axs.bar(x, y, color=[\"red\", \"blue\"])\n",
    "axs.set_title('Pre/Post RecursiveCharacterTextSplitter Split')\n",
    "axs.set_xticks(x)\n",
    "axs.set_xticklabels(x_labels, rotation=45, ha=\"right\")\n",
    "axs.set_ylabel('Text # to Process -->')\n",
    "\n",
    "# Add a legend to the second subplot\n",
    "axs.legend()\n",
    "\n",
    "# Adjust the layout\n",
    "plt.tight_layout()\n",
    "\n",
    "# Show the plot\n",
    "plt.show()\n",
    "\n",
    "%matplot plt"
   ]
  },
  {
   "cell_type": "code",
   "execution_count": 114,
   "id": "95fb2184-e098-4582-90ec-ddc0fea5916a",
   "metadata": {
    "tags": []
   },
   "outputs": [
    {
     "data": {
      "application/vnd.jupyter.widget-view+json": {
       "model_id": "",
       "version_major": 2,
       "version_minor": 0
      },
      "text/plain": [
       "FloatProgress(value=0.0, bar_style='info', description='Progress:', layout=Layout(height='25px', width='50%'),…"
      ]
     },
     "metadata": {},
     "output_type": "display_data"
    },
    {
     "name": "stdout",
     "output_type": "stream",
     "text": [
      "page_content='For more information about model tuning, see Automatic Model Tuning (p. 288).\\nMetrics Computed by the XGBoost Release 0.72 Algorithm\\nThe XGBoost algorithm based on version 0.72 computes the following nine metrics during training.\\nWhen tuning the model, choose one of these metrics as the objective to evaluate the model.\\nMetric Name Description Optimization Direction\\nvalidation:auc Area under the curve. Maximize\\n274' metadata={'source': 'Lab03/raw-pdfs/AmazonSageMakerDeveloperGuide.pdf', 'page': 281}"
     ]
    }
   ],
   "source": [
    "print(docs[1001])"
   ]
  },
  {
   "cell_type": "markdown",
   "id": "e7c1151c-e60e-478e-b342-a695fa0f3f38",
   "metadata": {},
   "source": [
    "## Run Parallelized Embeddings using Amazon EMR (EC2 Spark based Processing)"
   ]
  },
  {
   "cell_type": "code",
   "execution_count": 37,
   "id": "5e40185c-15e3-4cbd-9d82-30af418d1378",
   "metadata": {
    "tags": []
   },
   "outputs": [
    {
     "data": {
      "application/vnd.jupyter.widget-view+json": {
       "model_id": "",
       "version_major": 2,
       "version_minor": 0
      },
      "text/plain": [
       "FloatProgress(value=0.0, bar_style='info', description='Progress:', layout=Layout(height='25px', width='50%'),…"
      ]
     },
     "metadata": {},
     "output_type": "display_data"
    }
   ],
   "source": [
    "def generate_embeddings(input_text_sample):\n",
    "    \n",
    "    assert isinstance(input_text_sample, str), f\"Input must be a single string but found \" \n",
    "    \n",
    "    lambda_client = boto3.client('lambda', region_name='us-west-2') \n",
    "\n",
    "    # Prepare the data to send to the Lambda function\n",
    "    data = {\n",
    "        \"input\": input_text_sample\n",
    "    }\n",
    "\n",
    "    # Invoke the Lambda function\n",
    "    response = lambda_client.invoke(\n",
    "        FunctionName=\"invokeEmbeddingEndpoint\",\n",
    "        InvocationType=\"RequestResponse\",\n",
    "        Payload=json.dumps(data)\n",
    "    )\n",
    "\n",
    "    # Decode and load the response payload\n",
    "    response_payload = json.loads(response['Payload'].read().decode(\"utf-8\"))\n",
    "\n",
    "    # Extract status and embeddings from the response\n",
    "    status_code, embeddings = int(response_payload['statusCode']), json.loads(response_payload['body'])\n",
    "\n",
    "    return status_code, embeddings\n",
    "    \n",
    "class EmbeddingsGenerator:\n",
    "    \n",
    "    @staticmethod\n",
    "    def embed_documents(input_text, normalize=True):\n",
    "        \"\"\"\n",
    "        Generate embeddings for the provided text, invoking a Lambda function.\n",
    "        \"\"\"\n",
    "        assert isinstance(input_text, list), \"Input type must me list to embed_documents function\"\n",
    "        \n",
    "        input_text_rdd = spark.sparkContext.parallelize(input_text)\n",
    "        \n",
    "        embeddings_generated = input_text_rdd.map(generate_embeddings).collect()\n",
    "        \n",
    "        embedding_response = []\n",
    "        for s_code, embeddings in embeddings_generated:\n",
    "            if s_code == 200:\n",
    "                embedding_response.append(embeddings)\n",
    "            else:\n",
    "                pass\n",
    "        \n",
    "        return embedding_response\n",
    "    \n",
    "    @staticmethod\n",
    "    def embed_query(input_text):\n",
    "        status_code, embedding = generate_embeddings(input_text)\n",
    "        if status_code == 200:\n",
    "            return embedding\n",
    "        else: \n",
    "            None"
   ]
  },
  {
   "cell_type": "code",
   "execution_count": 38,
   "id": "3d81eb0d-e91a-450c-b841-371f1297a28c",
   "metadata": {
    "tags": []
   },
   "outputs": [
    {
     "data": {
      "application/vnd.jupyter.widget-view+json": {
       "model_id": "",
       "version_major": 2,
       "version_minor": 0
      },
      "text/plain": [
       "FloatProgress(value=0.0, bar_style='info', description='Progress:', layout=Layout(height='25px', width='50%'),…"
      ]
     },
     "metadata": {},
     "output_type": "display_data"
    },
    {
     "name": "stdout",
     "output_type": "stream",
     "text": [
      "Status 200, Embedding size of the document ---> 384"
     ]
    }
   ],
   "source": [
    "response_code, sample_sentence_embedding = generate_embeddings(docs[1000].page_content)\n",
    "print(f\"Status {response_code}, Embedding size of the document --->\", len(sample_sentence_embedding))"
   ]
  },
  {
   "cell_type": "code",
   "execution_count": 2,
   "id": "1d9b0e5b-9705-4a18-8368-15618ea4146c",
   "metadata": {
    "tags": []
   },
   "outputs": [],
   "source": [
    "%%local\n",
    "INDEX_NAME_OSE = \"amz-guides-index\""
   ]
  },
  {
   "cell_type": "code",
   "execution_count": 40,
   "id": "0aac1b62-9fbe-4c17-a3c7-c0d23354176a",
   "metadata": {
    "tags": []
   },
   "outputs": [
    {
     "data": {
      "application/vnd.jupyter.widget-view+json": {
       "model_id": "",
       "version_major": 2,
       "version_minor": 0
      },
      "text/plain": [
       "FloatProgress(value=0.0, bar_style='info', description='Progress:', layout=Layout(height='25px', width='50%'),…"
      ]
     },
     "metadata": {},
     "output_type": "display_data"
    },
    {
     "name": "stdout",
     "output_type": "stream",
     "text": [
      "Successfully passed 'INDEX_NAME_OSE' as 'INDEX_NAME_OSE' to Spark kernel"
     ]
    }
   ],
   "source": [
    "%%send_to_spark -i INDEX_NAME_OSE -t str -n INDEX_NAME_OSE"
   ]
  },
  {
   "cell_type": "code",
   "execution_count": 117,
   "id": "5ce389bf-1122-4be3-b9dd-2afa03fc4b24",
   "metadata": {
    "tags": []
   },
   "outputs": [
    {
     "name": "stdout",
     "output_type": "stream",
     "text": [
      "Session user and pwd --->  raguser lc#a*?aUSNbj0G'ld#bQ+iEz4Wp<-lmT\n"
     ]
    }
   ],
   "source": [
    "%%local\n",
    "def get_secret(secret_name, region_name=\"us-west-2\"):\n",
    "    # Create a Secrets Manager client\n",
    "    session = boto3.session.Session()\n",
    "    client = session.client(\n",
    "        service_name='secretsmanager',\n",
    "        region_name=region_name\n",
    "    )\n",
    "    get_secret_value_response = client.get_secret_value(\n",
    "        SecretId=secret_name\n",
    "    )\n",
    "    secrets = json.loads(get_secret_value_response['SecretString'])\n",
    "    user = secrets['username']\n",
    "    pwd = secrets['password']\n",
    "    return user, pwd\n",
    "\n",
    "# Use the function\n",
    "my_secret_name = \"OpenSearchSecret-workshop-studio-cfn\"  \n",
    "user, pwd = get_secret(my_secret_name, REGION)\n",
    "print(f\"Session user and pwd ---> \", user, pwd)"
   ]
  },
  {
   "cell_type": "code",
   "execution_count": 62,
   "id": "3284213b-5640-49be-b3f2-bf9b33b5626d",
   "metadata": {
    "tags": []
   },
   "outputs": [
    {
     "data": {
      "application/vnd.jupyter.widget-view+json": {
       "model_id": "",
       "version_major": 2,
       "version_minor": 0
      },
      "text/plain": [
       "FloatProgress(value=0.0, bar_style='info', description='Progress:', layout=Layout(height='25px', width='50%'),…"
      ]
     },
     "metadata": {},
     "output_type": "display_data"
    },
    {
     "name": "stdout",
     "output_type": "stream",
     "text": [
      "Successfully passed 'user' as 'user' to Spark kernel"
     ]
    }
   ],
   "source": [
    "%%send_to_spark -i user -t str -n user"
   ]
  },
  {
   "cell_type": "code",
   "execution_count": 63,
   "id": "66f1f8cb-4762-441f-9a77-fb754901e996",
   "metadata": {
    "tags": []
   },
   "outputs": [
    {
     "data": {
      "application/vnd.jupyter.widget-view+json": {
       "model_id": "",
       "version_major": 2,
       "version_minor": 0
      },
      "text/plain": [
       "FloatProgress(value=0.0, bar_style='info', description='Progress:', layout=Layout(height='25px', width='50%'),…"
      ]
     },
     "metadata": {},
     "output_type": "display_data"
    },
    {
     "name": "stdout",
     "output_type": "stream",
     "text": [
      "Successfully passed 'pwd' as 'pwd' to Spark kernel"
     ]
    }
   ],
   "source": [
    "%%send_to_spark -i pwd -t str -n pwd"
   ]
  },
  {
   "cell_type": "code",
   "execution_count": 47,
   "id": "203689c0-015b-4700-8d56-3083e97d4969",
   "metadata": {
    "tags": []
   },
   "outputs": [
    {
     "data": {
      "application/vnd.jupyter.widget-view+json": {
       "model_id": "",
       "version_major": 2,
       "version_minor": 0
      },
      "text/plain": [
       "FloatProgress(value=0.0, bar_style='info', description='Progress:', layout=Layout(height='25px', width='50%'),…"
      ]
     },
     "metadata": {},
     "output_type": "display_data"
    },
    {
     "name": "stdout",
     "output_type": "stream",
     "text": [
      "Total Time for ingestion: 601.89 secs"
     ]
    }
   ],
   "source": [
    "import time\n",
    "from langchain.vectorstores import OpenSearchVectorSearch\n",
    "\n",
    "\n",
    "start = time.time()\n",
    "docsearch = OpenSearchVectorSearch.from_documents(\n",
    "    docs, \n",
    "    EmbeddingsGenerator, \n",
    "    opensearch_url=\"https://search-opensearchservi-gawzad6dgaoi-dfwotp4qzylozyn2tbqobn55tq.us-west-2.es.amazonaws.com\",\n",
    "    bulk_size=len(docs),\n",
    "    http_auth=(user, pwd),\n",
    "    index_name=INDEX_NAME_OSE,\n",
    "    engine=\"faiss\"\n",
    ")\n",
    "\n",
    "end = time.time()\n",
    "print(f\"Total Time for ingestion: {round(end - start, 2)} secs\")"
   ]
  },
  {
   "cell_type": "code",
   "execution_count": 48,
   "id": "f47ef10c-a50e-4c01-b647-befb7e1f4c7c",
   "metadata": {
    "tags": []
   },
   "outputs": [
    {
     "data": {
      "application/vnd.jupyter.widget-view+json": {
       "model_id": "",
       "version_major": 2,
       "version_minor": 0
      },
      "text/plain": [
       "FloatProgress(value=0.0, bar_style='info', description='Progress:', layout=Layout(height='25px', width='50%'),…"
      ]
     },
     "metadata": {},
     "output_type": "display_data"
    }
   ],
   "source": [
    "query = \"What is a Amazon SageMaker?\"\n",
    "sample_responses = docsearch.similarity_search(\n",
    "    query, \n",
    "    k=5, \n",
    "    space_type=\"cosineSimilarity\", \n",
    "    search_type=\"painless_scripting\"\n",
    ")"
   ]
  },
  {
   "cell_type": "code",
   "execution_count": 54,
   "id": "96fecfc5-f0cd-4064-82c8-aff9f6b3013c",
   "metadata": {
    "tags": []
   },
   "outputs": [
    {
     "data": {
      "application/vnd.jupyter.widget-view+json": {
       "model_id": "",
       "version_major": 2,
       "version_minor": 0
      },
      "text/plain": [
       "FloatProgress(value=0.0, bar_style='info', description='Progress:', layout=Layout(height='25px', width='50%'),…"
      ]
     },
     "metadata": {},
     "output_type": "display_data"
    },
    {
     "name": "stdout",
     "output_type": "stream",
     "text": [
      "'Amazon SageMaker\\nDeveloper Guide'"
     ]
    }
   ],
   "source": [
    "sample_responses[4].page_content"
   ]
  },
  {
   "cell_type": "markdown",
   "id": "571c564f-4f9b-4f5e-9d90-37f51bc27979",
   "metadata": {},
   "source": [
    "## Putting it All Together"
   ]
  },
  {
   "cell_type": "markdown",
   "id": "2b58f136-bd93-4d2d-971d-6b28259e4c7f",
   "metadata": {
    "tags": []
   },
   "source": [
    "To recap,\n",
    "\n",
    "1. We create a Spark Cluster to leverage PySpark for Distributed Data Processing at scale!\n",
    "2. We pushed some raw data into S3 (in reality, this data can be housed anywhere RedShift, S3, RDS, Dynamo, Snowflake, etc..)\n",
    "3. We Parallelized our document extraction from S3 using PySpark - our PySpark `Core` nodes were able to reach out to doc store (S3) read a file into memory for downstream processing\n",
    "4. We then split our processing at Document - at a page level and further parallelize our pdf reading process using PySpark\n",
    "5. We chunk our document corpus using `LangChain`'s `RecursiveCharacterTextSplitter`. We then convert our text into Embeddings using `all-Mini-l6-v2` Embedding LLM Model and ingest these embeddings into OpenSearch index. - all using PySpark Parallel Processing technique\n",
    "6. We then move over to a local session using `%%local`- A user asks a Question aka Query, We retrieve similar documents from OpenSearch aka Context, We feed Query + Context to a Text Generation LLM `Llama2-13b` to provide a well crafted response to a user's question"
   ]
  },
  {
   "cell_type": "code",
   "execution_count": 57,
   "id": "152d36fa-cdad-4f5b-8773-cf8b732bb9cd",
   "metadata": {
    "tags": []
   },
   "outputs": [
    {
     "name": "stdout",
     "output_type": "stream",
     "text": [
      "\u001b[31mERROR: pip's dependency resolver does not currently take into account all the packages that are installed. This behaviour is the source of the following dependency conflicts.\n",
      "panel 0.13.1 requires bokeh<2.5.0,>=2.4.0, but you have bokeh 3.3.0 which is incompatible.\u001b[0m\u001b[31m\n",
      "\u001b[0m\u001b[33mWARNING: Running pip as the 'root' user can result in broken permissions and conflicting behaviour with the system package manager. It is recommended to use a virtual environment instead: https://pip.pypa.io/warnings/venv\u001b[0m\u001b[33m\n",
      "\u001b[0m\n",
      "\u001b[1m[\u001b[0m\u001b[34;49mnotice\u001b[0m\u001b[1;39;49m]\u001b[0m\u001b[39;49m A new release of pip available: \u001b[0m\u001b[31;49m23.2.1\u001b[0m\u001b[39;49m -> \u001b[0m\u001b[32;49m23.3.1\u001b[0m\n",
      "\u001b[1m[\u001b[0m\u001b[34;49mnotice\u001b[0m\u001b[1;39;49m]\u001b[0m\u001b[39;49m To update, run: \u001b[0m\u001b[32;49mpip install --upgrade pip\u001b[0m\n"
     ]
    }
   ],
   "source": [
    "%%local\n",
    "!python3 -m pip install -q opensearch-py==2.3.2 langchain==0.0.310 typing_extensions==4.7.1"
   ]
  },
  {
   "cell_type": "markdown",
   "id": "58ae048e-628f-48a1-8de4-c936fd4228a9",
   "metadata": {},
   "source": [
    "From our local session, we need to link up with our OpenSearch Cluster so we con combine a User's query with our Vector DB back and generate a response from our SageMaker Chat `Llama2-13b` endpoint"
   ]
  },
  {
   "cell_type": "code",
   "execution_count": 27,
   "id": "ef95bafd-e975-436a-9622-1aa1d36b9fca",
   "metadata": {
    "tags": []
   },
   "outputs": [],
   "source": [
    "%%local\n",
    "import boto3\n",
    "from langchain.vectorstores import OpenSearchVectorSearch\n",
    "\n",
    "\n",
    "class EmbeddingGenerator:\n",
    "    def __init__(self):\n",
    "        self.lambda_client = boto3.client('lambda', region_name='us-west-2')\n",
    "    \n",
    "    def embed_query(self, input_text_sample):\n",
    "        \"\"\"Generate embeddings for the input text.\"\"\"\n",
    "        \n",
    "        lambda_client = boto3.client('lambda', region_name='us-west-2') \n",
    "        \n",
    "        # Prepare the data to send to the Lambda function\n",
    "        data = {\n",
    "            \"input\": input_text_sample\n",
    "        }\n",
    "\n",
    "        # Invoke the Lambda function\n",
    "        response = lambda_client.invoke(\n",
    "            FunctionName=\"invokeEmbeddingEndpoint\",\n",
    "            InvocationType=\"RequestResponse\",\n",
    "            Payload=json.dumps(data)\n",
    "        )\n",
    "\n",
    "        # Decode and load the response payload.\n",
    "        response_payload = json.loads(response['Payload'].read().decode(\"utf-8\"))\n",
    "\n",
    "        # Extract status and embeddings from the response.\n",
    "        status_code, embeddings = int(response_payload['statusCode']), json.loads(response_payload['body'])\n",
    "\n",
    "        return embeddings\n",
    "\n",
    "\n",
    "embedding_generator = EmbeddingGenerator()\n",
    "\n",
    "docsearch = OpenSearchVectorSearch(\n",
    "    index_name=INDEX_NAME_OSE,\n",
    "    embedding_function=embedding_generator,\n",
    "    opensearch_url=\"https://search-opensearchservi-gawzad6dgaoi-dfwotp4qzylozyn2tbqobn55tq.us-west-2.es.amazonaws.com\",\n",
    "    http_auth=(user, pwd),\n",
    "    engine=\"faiss\"\n",
    ")"
   ]
  },
  {
   "cell_type": "code",
   "execution_count": 28,
   "id": "3526c1b2-af46-410e-922a-f1687af1acd8",
   "metadata": {
    "tags": []
   },
   "outputs": [],
   "source": [
    "%%local\n",
    "import re\n",
    "import json\n",
    "from typing import Dict\n",
    "from langchain.llms.sagemaker_endpoint import LLMContentHandler\n",
    "from langchain.llms import SagemakerEndpoint\n",
    "from langchain.chains.question_answering import load_qa_chain\n",
    "from langchain.chains import RetrievalQA\n",
    "\n",
    "\n",
    "class ContentHandler(LLMContentHandler):\n",
    "    \n",
    "    content_type = \"application/json\"\n",
    "    accepts = \"application/json\"\n",
    "\n",
    "    def transform_input(self, prompt: str, model_kwargs: Dict) -> bytes:\n",
    "        \n",
    "        pattern = r\"(QUESTION:\\n)(.*?)(\\n\\n)\"\n",
    "        \n",
    "        match = re.search(pattern, prompt, re.DOTALL)\n",
    "        \n",
    "        # question_block = match.group(0)\n",
    "        query_only = match.group(2)\n",
    "        \n",
    "        modified_prompt = re.sub(pattern, '', prompt, flags=re.DOTALL)\n",
    "        \n",
    "        body = {\n",
    "            \"inputs\": [\n",
    "                [\n",
    "                     {\n",
    "                         \"role\": \"system\", \n",
    "                         \"content\": modified_prompt\n",
    "                     },\n",
    "                    {\n",
    "                        \"role\": \"user\", \n",
    "                        \"content\": query_only\n",
    "                    },\n",
    "                ]   \n",
    "            ], \n",
    "            \"parameters\": model_kwargs\n",
    "        }\n",
    "        input_str = json.dumps(body)\n",
    "        return input_str.encode(\"utf-8\")\n",
    "\n",
    "    def transform_output(self, output: bytes) -> str:\n",
    "        response_json = json.loads(output.read().decode(\"utf-8\"))\n",
    "        system_response = response_json[0]['generation']['content']\n",
    "        return system_response.strip()\n",
    "\n",
    "content_handler = ContentHandler()\n",
    "\n",
    "\n",
    "llm_sm_ep = SagemakerEndpoint(\n",
    "    endpoint_name=\"meta-llama2-7b-chat-tg-ep\", \n",
    "    region_name=REGION,\n",
    "    model_kwargs={\n",
    "        \"max_new_tokens\": 512, \n",
    "        \"top_p\": 1.0, \n",
    "        \"temperature\": 0.1, \n",
    "        \"return_full_text\": False\n",
    "    },\n",
    "    content_handler=content_handler,\n",
    "    endpoint_kwargs={\"CustomAttributes\": 'accept_eula=true'}\n",
    ")"
   ]
  },
  {
   "cell_type": "code",
   "execution_count": 29,
   "id": "7bf50f9e-f64d-4bf6-9bd4-d8c924da06ee",
   "metadata": {
    "tags": []
   },
   "outputs": [],
   "source": [
    "%%local\n",
    "from langchain import PromptTemplate\n",
    "\n",
    "template = \"\"\"\n",
    "Answer the following QUESTION based on the CONTEXT\n",
    "given. If you do not know the answer and the CONTEXT doesn't\n",
    "contain the answer truthfully say \"I don't know\".\n",
    "\n",
    "CONTEXT:\n",
    "{context}\n",
    "\n",
    "QUESTION:\n",
    "{question}\n",
    "\n",
    "ANSWER:\n",
    "\"\"\"\n",
    "prompt_template = PromptTemplate(\n",
    "    template=template, \n",
    "    input_variables=['context', 'question']\n",
    ")\n",
    "\n",
    "llm_qa_smep_chain = RetrievalQA.from_chain_type(\n",
    "    llm=llm_sm_ep,\n",
    "    chain_type='stuff',\n",
    "    retriever=docsearch.as_retriever(search_kwargs={\"k\": 10, \"space_type\": \"cosineSimilarity\", \"space_type\": \"painless_scripting\"}),\n",
    "    return_source_documents=True,\n",
    "    chain_type_kwargs={\"prompt\": prompt_template}\n",
    ")\n",
    "\n",
    "\n",
    "def pretty_print(chain_op):\n",
    "    question = chain_op['query']\n",
    "    \n",
    "    response = chain_op['result']\n",
    "    \n",
    "    sources = \"\\n\".join([f\"-{src.metadata['source'].split('/')[-1]} (page: {src.metadata['page']})\" for src in chain_op['source_documents']])\n",
    "    \n",
    "    stdout = f\"\"\"Question:\\n> {question}\\n\\n================\\nSystem:\\n> {response}\\n\\n================\\nSources:\\n{sources}\n",
    "    \"\"\"\n",
    "    print(stdout)"
   ]
  },
  {
   "cell_type": "code",
   "execution_count": 30,
   "id": "76c24205-1c2b-49f3-a36d-af213ee12a5f",
   "metadata": {
    "tags": []
   },
   "outputs": [
    {
     "name": "stdout",
     "output_type": "stream",
     "text": [
      "Question:\n",
      "> What is a SageMaker Training job and how do you run it?\n",
      "\n",
      "================\n",
      "System:\n",
      "> Based on the provided context, a SageMaker Training job is an iterative process that teaches a model to make predictions by using an algorithm and example data to train a model. To run a training job in Amazon SageMaker, you can use the console, the low-level API, or the Python SDK.\n",
      "\n",
      "Here are the general steps to run a training job:\n",
      "\n",
      "1. Open the Amazon SageMaker console at <https://console.aws.amazon.com/sagemaker/>.\n",
      "2. Choose \"Algorithms\" from the left navigation pane.\n",
      "3. Select an algorithm that you created or subscribe to from the list on the \"My Algorithms\" tab or the \"AWS Marketplace Subscriptions\" tab.\n",
      "4. Choose \"Create Training Job\" on the algorithm detail page.\n",
      "5. Provide the following information on the \"Create Training Job\" page:\n",
      "\t* Algorithm specification\n",
      "\t* Training job name\n",
      "\t* Role for the training job (optional)\n",
      "\t* Hyperparameter tuning parameters (optional)\n",
      "6. Choose \"Create Training Job\" to start the training process.\n",
      "\n",
      "Note: You can also use the low-level Amazon SageMaker API or the Python SDK to run a training job. For more information, see the Amazon SageMaker Developer Guide.\n",
      "\n",
      "================\n",
      "Sources:\n",
      "-AmazonSageMakerDeveloperGuide.pdf (page: 427)\n",
      "-AmazonSageMakerDeveloperGuide.pdf (page: 428)\n",
      "-AmazonSageMakerDeveloperGuide.pdf (page: 427)\n",
      "-AmazonSageMakerDeveloperGuide.pdf (page: 442)\n",
      "-AmazonSageMakerDeveloperGuide.pdf (page: 288)\n",
      "-AmazonSageMakerDeveloperGuide.pdf (page: 291)\n",
      "-AmazonSageMakerDeveloperGuide.pdf (page: 1016)\n",
      "-AmazonSageMakerDeveloperGuide.pdf (page: 9)\n",
      "-AmazonSageMakerDeveloperGuide.pdf (page: 9)\n",
      "-AmazonSageMakerDeveloperGuide.pdf (page: 283)\n",
      "    \n"
     ]
    }
   ],
   "source": [
    "%%local\n",
    "pretty_print(llm_qa_smep_chain(\"What is a SageMaker Training job and how do you run it?\"))"
   ]
  },
  {
   "cell_type": "code",
   "execution_count": 84,
   "id": "a3dc9db4-5897-4227-a38b-b427eae71e2d",
   "metadata": {
    "tags": []
   },
   "outputs": [
    {
     "name": "stdout",
     "output_type": "stream",
     "text": [
      "Question:\n",
      "> What types of GPU instance types are supported SageMaker?\n",
      "\n",
      "================\n",
      "System:\n",
      "> Based on the provided context, the following GPU instance types are supported by Amazon SageMaker:\n",
      "\n",
      "* ml.gpu.xlarge\n",
      "* ml.gpu.8xlarge\n",
      "* ml.gpu.16xlarge\n",
      "\n",
      "These instance types provide on-demand GPU computing for training and hosting machine learning models.\n",
      "\n",
      "================\n",
      "Sources:\n",
      "-AmazonSageMakerDeveloperGuide.pdf (page: 407)\n",
      "-AmazonSageMakerDeveloperGuide.pdf (page: 79)\n",
      "-AmazonSageMakerDeveloperGuide.pdf (page: 80)\n",
      "-AmazonSageMakerDeveloperGuide.pdf (page: 331)\n",
      "-AmazonSageMakerDeveloperGuide.pdf (page: 664)\n",
      "-AmazonSageMakerDeveloperGuide.pdf (page: 988)\n",
      "-AmazonSageMakerDeveloperGuide.pdf (page: 342)\n",
      "-AmazonSageMakerDeveloperGuide.pdf (page: 335)\n",
      "-AmazonSageMakerDeveloperGuide.pdf (page: 245)\n",
      "-AmazonSageMakerDeveloperGuide.pdf (page: 230)\n",
      "    \n"
     ]
    }
   ],
   "source": [
    "%%local\n",
    "pretty_print(llm_qa_smep_chain(\"What types of GPU instance types are supported SageMaker?\"))"
   ]
  },
  {
   "cell_type": "code",
   "execution_count": 32,
   "id": "92c62707-02ec-42c3-9a8b-ade8f45670e7",
   "metadata": {
    "tags": []
   },
   "outputs": [
    {
     "name": "stdout",
     "output_type": "stream",
     "text": [
      "Question:\n",
      "> How to install packages on EC2 instances using Command line?\n",
      "\n",
      "================\n",
      "System:\n",
      "> Based on the given context, you can install packages on EC2 instances using the command line by following these steps:\n",
      "\n",
      "1. Install the required development tools:\n",
      "\n",
      "You can install the required development tools, such as `make`, `gcc`, and `autoconf`, using the `yum` command. For example:\n",
      "```\n",
      "sudo yum groupinstall \"Development Tools\"\n",
      "```\n",
      "2. Create a placement group:\n",
      "\n",
      "You can create a placement group using the `ec2-create-placement-group` command. For example:\n",
      "```\n",
      "sudo ec2-create-placement-group my-placement-group\n",
      "```\n",
      "3. Install packages:\n",
      "\n",
      "You can install packages in a placement group using the `yum` command. For example:\n",
      "```\n",
      "sudo yum install my-package\n",
      "```\n",
      "4. Activate a conda environment:\n",
      "\n",
      "If you want to install packages that are available in a specific conda environment, you can activate that environment using the `source` command. For example:\n",
      "```\n",
      "source activate python3\n",
      "```\n",
      "5. Install packages:\n",
      "\n",
      "You can install packages in a conda environment using the `conda install` command. For example:\n",
      "```\n",
      "conda install my-package\n",
      "```\n",
      "6. Deactivate a conda environment:\n",
      "\n",
      "After installing packages in a conda environment, you can deactivate it using the `source deactivate` command. For example:\n",
      "```\n",
      "source deactivate\n",
      "```\n",
      "\n",
      "Note: The above steps are general instructions for installing packages on EC2 instances using the command line. The specific commands and file locations may vary depending on the distribution you are using.\n",
      "\n",
      "================\n",
      "Sources:\n",
      "-EC2DeveloperGuide.pdf (page: 338)\n",
      "-EC2DeveloperGuide.pdf (page: 137)\n",
      "-AmazonSageMakerDeveloperGuide.pdf (page: 48)\n",
      "-AmazonSageMakerDeveloperGuide.pdf (page: 49)\n",
      "-EC2DeveloperGuide.pdf (page: 335)\n",
      "-EC2DeveloperGuide.pdf (page: 338)\n",
      "-EC2DeveloperGuide.pdf (page: 105)\n",
      "-EC2DeveloperGuide.pdf (page: 60)\n",
      "-EC2DeveloperGuide.pdf (page: 91)\n",
      "-EC2DeveloperGuide.pdf (page: 682)\n",
      "    \n"
     ]
    }
   ],
   "source": [
    "%%local\n",
    "pretty_print(llm_qa_smep_chain(\"How to install packages on EC2 instances using Command line?\"))"
   ]
  },
  {
   "cell_type": "code",
   "execution_count": 33,
   "id": "35d59090-4017-4f27-a5a3-9e72f84a049d",
   "metadata": {
    "tags": []
   },
   "outputs": [
    {
     "name": "stdout",
     "output_type": "stream",
     "text": [
      "Question:\n",
      "> How to Create a Training Job using Boto3 SDK?\n",
      "\n",
      "================\n",
      "System:\n",
      "> Based on the provided context, the answer to your question is:\n",
      "\n",
      "To create a training job using Boto3 SDK, you can follow these steps:\n",
      "\n",
      "1. Import the necessary modules: `import sagemaker` and `from sagemaker.amazon.amazon_estimator import get_image_uri`\n",
      "2. Get the location of the XGBoost container using `get_image_uri(boto3.Session().region_name, 'xgboost')`: This will return the URL of the XGBoost container in the specified region.\n",
      "3. Set up the training information for the job using `training_job_params =...`: This involves passing the necessary information for the training job, such as the training and validation data folders, the algorithm to use, and the resource configuration.\n",
      "4. Name the training job using `training_job_name =...`: This should be a unique name for the training job within the specified AWS Region.\n",
      "5. Call `sm.create_training_job(**training_job_params)` to start the training job.\n",
      "\n",
      "Note: The `sm` object is created using `boto3.Session().client('sagemaker')`, which establishes a connection to the Amazon SageMaker API.\n",
      "\n",
      "================\n",
      "Sources:\n",
      "-AmazonSageMakerDeveloperGuide.pdf (page: 31)\n",
      "-AmazonSageMakerDeveloperGuide.pdf (page: 32)\n",
      "-AmazonSageMakerDeveloperGuide.pdf (page: 427)\n",
      "-AmazonSageMakerDeveloperGuide.pdf (page: 2)\n",
      "-AmazonSageMakerDeveloperGuide.pdf (page: 2)\n",
      "-AmazonSageMakerDeveloperGuide.pdf (page: 443)\n",
      "-AmazonSageMakerDeveloperGuide.pdf (page: 33)\n",
      "-AmazonSageMakerDeveloperGuide.pdf (page: 26)\n",
      "-AmazonSageMakerDeveloperGuide.pdf (page: 292)\n",
      "-AmazonSageMakerDeveloperGuide.pdf (page: 317)\n",
      "    \n"
     ]
    }
   ],
   "source": [
    "%%local\n",
    "pretty_print(llm_qa_smep_chain(\"How to Create a Training Job using Boto3 SDK?\"))"
   ]
  },
  {
   "cell_type": "code",
   "execution_count": 34,
   "id": "b5c615cd-1245-4cc0-9391-164102395efb",
   "metadata": {
    "tags": []
   },
   "outputs": [
    {
     "name": "stdout",
     "output_type": "stream",
     "text": [
      "Question:\n",
      "> How can I deploy a model to SageMaker Hosting service?\n",
      "\n",
      "================\n",
      "System:\n",
      "> To deploy a model to Amazon SageMaker hosting services, you can follow these steps:\n",
      "\n",
      "1. Create a model in Amazon SageMaker by providing the location of the S3 bucket that contains your model artifacts and the registry path of the image that contains the inference code.\n",
      "2. Create an endpoint configuration for an HTTPS endpoint by specifying the name of one or more models, the production variants, and the ML compute instances that you want Amazon SageMaker to launch to host each production variant.\n",
      "3. Call the CreateEndpoint API to deploy the model to Amazon SageMaker hosting services.\n",
      "\n",
      "Alternatively, you can use the AWS SDK for Python (Boto 3) to deploy a model to Amazon SageMaker hosting services. The process is similar to the above steps, but you will need to send a CreateEndpointConfig request to provide the resource configuration for hosting.\n",
      "\n",
      "It's important to note that you can only use the CreateEndpointConfig API to deploy models to Amazon SageMaker hosting services if you want to use Amazon SageMaker hosting services to deploy models into production.\n",
      "\n",
      "================\n",
      "Sources:\n",
      "-AmazonSageMakerDeveloperGuide.pdf (page: 655)\n",
      "-AmazonSageMakerDeveloperGuide.pdf (page: 15)\n",
      "-AmazonSageMakerDeveloperGuide.pdf (page: 15)\n",
      "-AmazonSageMakerDeveloperGuide.pdf (page: 34)\n",
      "-AmazonSageMakerDeveloperGuide.pdf (page: 433)\n",
      "-AmazonSageMakerDeveloperGuide.pdf (page: 642)\n",
      "-AmazonSageMakerDeveloperGuide.pdf (page: 636)\n",
      "-AmazonSageMakerDeveloperGuide.pdf (page: 14)\n",
      "-AmazonSageMakerDeveloperGuide.pdf (page: 14)\n",
      "-AmazonSageMakerDeveloperGuide.pdf (page: 11)\n",
      "    \n"
     ]
    }
   ],
   "source": [
    "%%local\n",
    "pretty_print(llm_qa_smep_chain(\"How can I deploy a model to SageMaker Hosting service?\"))"
   ]
  },
  {
   "cell_type": "code",
   "execution_count": 35,
   "id": "3cb8cec4-7304-4c5f-93c7-1d77b041c31d",
   "metadata": {
    "tags": []
   },
   "outputs": [
    {
     "name": "stdout",
     "output_type": "stream",
     "text": [
      "Question:\n",
      "> How do I validate a model using boto3 sdk and visualize results using matplotlib library?\n",
      "\n",
      "================\n",
      "System:\n",
      "> To validate a model using the AWS SDK for Python (Boto 3) and visualize the results using the matplotlib library, you can follow these steps:\n",
      "\n",
      "1. Download the test data from Amazon S3:\n",
      "```python\n",
      "s3 = boto3.resource('s3')\n",
      "test_key = \"{}/test/examples\".format(prefix)\n",
      "s3.Bucket(bucket).download_file(test_key, 'test_data')\n",
      "```\n",
      "2. Plot the first 10 images from the test dataset with their labels using matplotlib:\n",
      "```python\n",
      "%matplotlib inline\n",
      "for i in range(0, 10):\n",
      "    img = test_set[0][i]\n",
      "    label = test_set[1][i]\n",
      "    img_reshape = img.reshape((28, 28))\n",
      "    imgplot = plt.imshow(img_reshape, cmap='gray')\n",
      "    print('This is a {}'.format(label))\n",
      "    plt.show()\n",
      "```\n",
      "3. Get inferences from the first 10 examples in the test dataset by calling the `invoke_endpoint` method of the Amazon SageMaker runtime client:\n",
      "```python\n",
      "with open('test_data', 'r') as f:\n",
      "    for i in range(0, 10):\n",
      "        single_test = f.readline()\n",
      "        response = runtime_client.invoke_endpoint(EndpointName = endpoint_name,\n",
      "                                         ContentType = 'text/csv',\n",
      "                                         Body = single_test)\n",
      "        result = response['Body'].read().decode('ascii')\n",
      "        print('Predicted label is {}.'.format(result))\n",
      "```\n",
      "4. To evaluate different models, you can use the `search_results` variable to access the search results and plot the metrics:\n",
      "```python\n",
      "smclient = boto3.client(service_name='sagemaker')\n",
      "results = smclient.search(**search_params)\n",
      "for result in results:\n",
      "    print(result['Metrics']['binary_classification_accuracy'])\n",
      "```\n",
      "Note: In step 3, `endpoint_name` should be the name of the endpoint that you created in the previous step.\n",
      "\n",
      "By following these steps, you can validate a model using the AWS SDK for Python (Boto\n",
      "\n",
      "================\n",
      "Sources:\n",
      "-AmazonSageMakerDeveloperGuide.pdf (page: 40)\n",
      "-AmazonSageMakerDeveloperGuide.pdf (page: 38)\n",
      "-AmazonSageMakerDeveloperGuide.pdf (page: 39)\n",
      "-AmazonSageMakerDeveloperGuide.pdf (page: 39)\n",
      "-AmazonSageMakerDeveloperGuide.pdf (page: 444)\n",
      "-AmazonSageMakerDeveloperGuide.pdf (page: 40)\n",
      "-AmazonSageMakerDeveloperGuide.pdf (page: 292)\n",
      "-AmazonSageMakerDeveloperGuide.pdf (page: 38)\n",
      "-AmazonSageMakerDeveloperGuide.pdf (page: 37)\n",
      "-AmazonSageMakerDeveloperGuide.pdf (page: 23)\n",
      "    \n"
     ]
    }
   ],
   "source": [
    "%%local\n",
    "pretty_print(llm_qa_smep_chain(\"How do I validate a model using boto3 sdk and visualize results using matplotlib library?\"))"
   ]
  },
  {
   "cell_type": "code",
   "execution_count": 36,
   "id": "651df026-405c-4a4a-9530-8c252a703a2b",
   "metadata": {
    "tags": []
   },
   "outputs": [
    {
     "name": "stdout",
     "output_type": "stream",
     "text": [
      "Question:\n",
      "> How can I use the console to add a git repository to my SageMaker account?\n",
      "\n",
      "================\n",
      "System:\n",
      "> Based on the provided context, you can use the Amazon SageMaker console to add a Git repository to your SageMaker account by following these steps:\n",
      "\n",
      "1. Open the Amazon SageMaker console at <https://console.aws.amazon.com/sagemaker/>.\n",
      "2. Choose \"Git repositories\" from the top-level menu.\n",
      "3. Click on \"Add repository\" in the top-right corner of the page.\n",
      "4. Select \"AWS CodeCommit\" as the repository type, or enter the URL of a Git repository hosted elsewhere.\n",
      "5. Follow the prompts to enter the repository name, Git credentials (if necessary), and other details.\n",
      "6. Choose \"Add repository\" to complete the process.\n",
      "\n",
      "Note that you can also use the AWS CLI to add a Git repository to your SageMaker account by running the command `aws sagemaker create-code-repository`. For more information, see the Amazon SageMaker Developer Guide.\n",
      "\n",
      "================\n",
      "Sources:\n",
      "-AmazonSageMakerDeveloperGuide.pdf (page: 54)\n",
      "-AmazonSageMakerDeveloperGuide.pdf (page: 56)\n",
      "-AmazonSageMakerDeveloperGuide.pdf (page: 54)\n",
      "-AmazonSageMakerDeveloperGuide.pdf (page: 57)\n",
      "-AmazonSageMakerDeveloperGuide.pdf (page: 54)\n",
      "-AmazonSageMakerDeveloperGuide.pdf (page: 55)\n",
      "-AmazonSageMakerDeveloperGuide.pdf (page: 54)\n",
      "-AmazonSageMakerDeveloperGuide.pdf (page: 634)\n",
      "-AmazonSageMakerDeveloperGuide.pdf (page: 59)\n",
      "-AmazonSageMakerDeveloperGuide.pdf (page: 60)\n",
      "    \n"
     ]
    }
   ],
   "source": [
    "%%local\n",
    "pretty_print(llm_qa_smep_chain(\"How can I use the console to add a git repository to my SageMaker account?\"))"
   ]
  },
  {
   "cell_type": "code",
   "execution_count": null,
   "id": "1face8fd-d580-4907-bb2f-425d5b8a4486",
   "metadata": {},
   "outputs": [],
   "source": []
  }
 ],
 "metadata": {
  "availableInstances": [
   {
    "_defaultOrder": 0,
    "_isFastLaunch": true,
    "category": "General purpose",
    "gpuNum": 0,
    "hideHardwareSpecs": false,
    "memoryGiB": 4,
    "name": "ml.t3.medium",
    "vcpuNum": 2
   },
   {
    "_defaultOrder": 1,
    "_isFastLaunch": false,
    "category": "General purpose",
    "gpuNum": 0,
    "hideHardwareSpecs": false,
    "memoryGiB": 8,
    "name": "ml.t3.large",
    "vcpuNum": 2
   },
   {
    "_defaultOrder": 2,
    "_isFastLaunch": false,
    "category": "General purpose",
    "gpuNum": 0,
    "hideHardwareSpecs": false,
    "memoryGiB": 16,
    "name": "ml.t3.xlarge",
    "vcpuNum": 4
   },
   {
    "_defaultOrder": 3,
    "_isFastLaunch": false,
    "category": "General purpose",
    "gpuNum": 0,
    "hideHardwareSpecs": false,
    "memoryGiB": 32,
    "name": "ml.t3.2xlarge",
    "vcpuNum": 8
   },
   {
    "_defaultOrder": 4,
    "_isFastLaunch": true,
    "category": "General purpose",
    "gpuNum": 0,
    "hideHardwareSpecs": false,
    "memoryGiB": 8,
    "name": "ml.m5.large",
    "vcpuNum": 2
   },
   {
    "_defaultOrder": 5,
    "_isFastLaunch": false,
    "category": "General purpose",
    "gpuNum": 0,
    "hideHardwareSpecs": false,
    "memoryGiB": 16,
    "name": "ml.m5.xlarge",
    "vcpuNum": 4
   },
   {
    "_defaultOrder": 6,
    "_isFastLaunch": false,
    "category": "General purpose",
    "gpuNum": 0,
    "hideHardwareSpecs": false,
    "memoryGiB": 32,
    "name": "ml.m5.2xlarge",
    "vcpuNum": 8
   },
   {
    "_defaultOrder": 7,
    "_isFastLaunch": false,
    "category": "General purpose",
    "gpuNum": 0,
    "hideHardwareSpecs": false,
    "memoryGiB": 64,
    "name": "ml.m5.4xlarge",
    "vcpuNum": 16
   },
   {
    "_defaultOrder": 8,
    "_isFastLaunch": false,
    "category": "General purpose",
    "gpuNum": 0,
    "hideHardwareSpecs": false,
    "memoryGiB": 128,
    "name": "ml.m5.8xlarge",
    "vcpuNum": 32
   },
   {
    "_defaultOrder": 9,
    "_isFastLaunch": false,
    "category": "General purpose",
    "gpuNum": 0,
    "hideHardwareSpecs": false,
    "memoryGiB": 192,
    "name": "ml.m5.12xlarge",
    "vcpuNum": 48
   },
   {
    "_defaultOrder": 10,
    "_isFastLaunch": false,
    "category": "General purpose",
    "gpuNum": 0,
    "hideHardwareSpecs": false,
    "memoryGiB": 256,
    "name": "ml.m5.16xlarge",
    "vcpuNum": 64
   },
   {
    "_defaultOrder": 11,
    "_isFastLaunch": false,
    "category": "General purpose",
    "gpuNum": 0,
    "hideHardwareSpecs": false,
    "memoryGiB": 384,
    "name": "ml.m5.24xlarge",
    "vcpuNum": 96
   },
   {
    "_defaultOrder": 12,
    "_isFastLaunch": false,
    "category": "General purpose",
    "gpuNum": 0,
    "hideHardwareSpecs": false,
    "memoryGiB": 8,
    "name": "ml.m5d.large",
    "vcpuNum": 2
   },
   {
    "_defaultOrder": 13,
    "_isFastLaunch": false,
    "category": "General purpose",
    "gpuNum": 0,
    "hideHardwareSpecs": false,
    "memoryGiB": 16,
    "name": "ml.m5d.xlarge",
    "vcpuNum": 4
   },
   {
    "_defaultOrder": 14,
    "_isFastLaunch": false,
    "category": "General purpose",
    "gpuNum": 0,
    "hideHardwareSpecs": false,
    "memoryGiB": 32,
    "name": "ml.m5d.2xlarge",
    "vcpuNum": 8
   },
   {
    "_defaultOrder": 15,
    "_isFastLaunch": false,
    "category": "General purpose",
    "gpuNum": 0,
    "hideHardwareSpecs": false,
    "memoryGiB": 64,
    "name": "ml.m5d.4xlarge",
    "vcpuNum": 16
   },
   {
    "_defaultOrder": 16,
    "_isFastLaunch": false,
    "category": "General purpose",
    "gpuNum": 0,
    "hideHardwareSpecs": false,
    "memoryGiB": 128,
    "name": "ml.m5d.8xlarge",
    "vcpuNum": 32
   },
   {
    "_defaultOrder": 17,
    "_isFastLaunch": false,
    "category": "General purpose",
    "gpuNum": 0,
    "hideHardwareSpecs": false,
    "memoryGiB": 192,
    "name": "ml.m5d.12xlarge",
    "vcpuNum": 48
   },
   {
    "_defaultOrder": 18,
    "_isFastLaunch": false,
    "category": "General purpose",
    "gpuNum": 0,
    "hideHardwareSpecs": false,
    "memoryGiB": 256,
    "name": "ml.m5d.16xlarge",
    "vcpuNum": 64
   },
   {
    "_defaultOrder": 19,
    "_isFastLaunch": false,
    "category": "General purpose",
    "gpuNum": 0,
    "hideHardwareSpecs": false,
    "memoryGiB": 384,
    "name": "ml.m5d.24xlarge",
    "vcpuNum": 96
   },
   {
    "_defaultOrder": 20,
    "_isFastLaunch": false,
    "category": "General purpose",
    "gpuNum": 0,
    "hideHardwareSpecs": true,
    "memoryGiB": 0,
    "name": "ml.geospatial.interactive",
    "supportedImageNames": [
     "sagemaker-geospatial-v1-0"
    ],
    "vcpuNum": 0
   },
   {
    "_defaultOrder": 21,
    "_isFastLaunch": true,
    "category": "Compute optimized",
    "gpuNum": 0,
    "hideHardwareSpecs": false,
    "memoryGiB": 4,
    "name": "ml.c5.large",
    "vcpuNum": 2
   },
   {
    "_defaultOrder": 22,
    "_isFastLaunch": false,
    "category": "Compute optimized",
    "gpuNum": 0,
    "hideHardwareSpecs": false,
    "memoryGiB": 8,
    "name": "ml.c5.xlarge",
    "vcpuNum": 4
   },
   {
    "_defaultOrder": 23,
    "_isFastLaunch": false,
    "category": "Compute optimized",
    "gpuNum": 0,
    "hideHardwareSpecs": false,
    "memoryGiB": 16,
    "name": "ml.c5.2xlarge",
    "vcpuNum": 8
   },
   {
    "_defaultOrder": 24,
    "_isFastLaunch": false,
    "category": "Compute optimized",
    "gpuNum": 0,
    "hideHardwareSpecs": false,
    "memoryGiB": 32,
    "name": "ml.c5.4xlarge",
    "vcpuNum": 16
   },
   {
    "_defaultOrder": 25,
    "_isFastLaunch": false,
    "category": "Compute optimized",
    "gpuNum": 0,
    "hideHardwareSpecs": false,
    "memoryGiB": 72,
    "name": "ml.c5.9xlarge",
    "vcpuNum": 36
   },
   {
    "_defaultOrder": 26,
    "_isFastLaunch": false,
    "category": "Compute optimized",
    "gpuNum": 0,
    "hideHardwareSpecs": false,
    "memoryGiB": 96,
    "name": "ml.c5.12xlarge",
    "vcpuNum": 48
   },
   {
    "_defaultOrder": 27,
    "_isFastLaunch": false,
    "category": "Compute optimized",
    "gpuNum": 0,
    "hideHardwareSpecs": false,
    "memoryGiB": 144,
    "name": "ml.c5.18xlarge",
    "vcpuNum": 72
   },
   {
    "_defaultOrder": 28,
    "_isFastLaunch": false,
    "category": "Compute optimized",
    "gpuNum": 0,
    "hideHardwareSpecs": false,
    "memoryGiB": 192,
    "name": "ml.c5.24xlarge",
    "vcpuNum": 96
   },
   {
    "_defaultOrder": 29,
    "_isFastLaunch": true,
    "category": "Accelerated computing",
    "gpuNum": 1,
    "hideHardwareSpecs": false,
    "memoryGiB": 16,
    "name": "ml.g4dn.xlarge",
    "vcpuNum": 4
   },
   {
    "_defaultOrder": 30,
    "_isFastLaunch": false,
    "category": "Accelerated computing",
    "gpuNum": 1,
    "hideHardwareSpecs": false,
    "memoryGiB": 32,
    "name": "ml.g4dn.2xlarge",
    "vcpuNum": 8
   },
   {
    "_defaultOrder": 31,
    "_isFastLaunch": false,
    "category": "Accelerated computing",
    "gpuNum": 1,
    "hideHardwareSpecs": false,
    "memoryGiB": 64,
    "name": "ml.g4dn.4xlarge",
    "vcpuNum": 16
   },
   {
    "_defaultOrder": 32,
    "_isFastLaunch": false,
    "category": "Accelerated computing",
    "gpuNum": 1,
    "hideHardwareSpecs": false,
    "memoryGiB": 128,
    "name": "ml.g4dn.8xlarge",
    "vcpuNum": 32
   },
   {
    "_defaultOrder": 33,
    "_isFastLaunch": false,
    "category": "Accelerated computing",
    "gpuNum": 4,
    "hideHardwareSpecs": false,
    "memoryGiB": 192,
    "name": "ml.g4dn.12xlarge",
    "vcpuNum": 48
   },
   {
    "_defaultOrder": 34,
    "_isFastLaunch": false,
    "category": "Accelerated computing",
    "gpuNum": 1,
    "hideHardwareSpecs": false,
    "memoryGiB": 256,
    "name": "ml.g4dn.16xlarge",
    "vcpuNum": 64
   },
   {
    "_defaultOrder": 35,
    "_isFastLaunch": false,
    "category": "Accelerated computing",
    "gpuNum": 1,
    "hideHardwareSpecs": false,
    "memoryGiB": 61,
    "name": "ml.p3.2xlarge",
    "vcpuNum": 8
   },
   {
    "_defaultOrder": 36,
    "_isFastLaunch": false,
    "category": "Accelerated computing",
    "gpuNum": 4,
    "hideHardwareSpecs": false,
    "memoryGiB": 244,
    "name": "ml.p3.8xlarge",
    "vcpuNum": 32
   },
   {
    "_defaultOrder": 37,
    "_isFastLaunch": false,
    "category": "Accelerated computing",
    "gpuNum": 8,
    "hideHardwareSpecs": false,
    "memoryGiB": 488,
    "name": "ml.p3.16xlarge",
    "vcpuNum": 64
   },
   {
    "_defaultOrder": 38,
    "_isFastLaunch": false,
    "category": "Accelerated computing",
    "gpuNum": 8,
    "hideHardwareSpecs": false,
    "memoryGiB": 768,
    "name": "ml.p3dn.24xlarge",
    "vcpuNum": 96
   },
   {
    "_defaultOrder": 39,
    "_isFastLaunch": false,
    "category": "Memory Optimized",
    "gpuNum": 0,
    "hideHardwareSpecs": false,
    "memoryGiB": 16,
    "name": "ml.r5.large",
    "vcpuNum": 2
   },
   {
    "_defaultOrder": 40,
    "_isFastLaunch": false,
    "category": "Memory Optimized",
    "gpuNum": 0,
    "hideHardwareSpecs": false,
    "memoryGiB": 32,
    "name": "ml.r5.xlarge",
    "vcpuNum": 4
   },
   {
    "_defaultOrder": 41,
    "_isFastLaunch": false,
    "category": "Memory Optimized",
    "gpuNum": 0,
    "hideHardwareSpecs": false,
    "memoryGiB": 64,
    "name": "ml.r5.2xlarge",
    "vcpuNum": 8
   },
   {
    "_defaultOrder": 42,
    "_isFastLaunch": false,
    "category": "Memory Optimized",
    "gpuNum": 0,
    "hideHardwareSpecs": false,
    "memoryGiB": 128,
    "name": "ml.r5.4xlarge",
    "vcpuNum": 16
   },
   {
    "_defaultOrder": 43,
    "_isFastLaunch": false,
    "category": "Memory Optimized",
    "gpuNum": 0,
    "hideHardwareSpecs": false,
    "memoryGiB": 256,
    "name": "ml.r5.8xlarge",
    "vcpuNum": 32
   },
   {
    "_defaultOrder": 44,
    "_isFastLaunch": false,
    "category": "Memory Optimized",
    "gpuNum": 0,
    "hideHardwareSpecs": false,
    "memoryGiB": 384,
    "name": "ml.r5.12xlarge",
    "vcpuNum": 48
   },
   {
    "_defaultOrder": 45,
    "_isFastLaunch": false,
    "category": "Memory Optimized",
    "gpuNum": 0,
    "hideHardwareSpecs": false,
    "memoryGiB": 512,
    "name": "ml.r5.16xlarge",
    "vcpuNum": 64
   },
   {
    "_defaultOrder": 46,
    "_isFastLaunch": false,
    "category": "Memory Optimized",
    "gpuNum": 0,
    "hideHardwareSpecs": false,
    "memoryGiB": 768,
    "name": "ml.r5.24xlarge",
    "vcpuNum": 96
   },
   {
    "_defaultOrder": 47,
    "_isFastLaunch": false,
    "category": "Accelerated computing",
    "gpuNum": 1,
    "hideHardwareSpecs": false,
    "memoryGiB": 16,
    "name": "ml.g5.xlarge",
    "vcpuNum": 4
   },
   {
    "_defaultOrder": 48,
    "_isFastLaunch": false,
    "category": "Accelerated computing",
    "gpuNum": 1,
    "hideHardwareSpecs": false,
    "memoryGiB": 32,
    "name": "ml.g5.2xlarge",
    "vcpuNum": 8
   },
   {
    "_defaultOrder": 49,
    "_isFastLaunch": false,
    "category": "Accelerated computing",
    "gpuNum": 1,
    "hideHardwareSpecs": false,
    "memoryGiB": 64,
    "name": "ml.g5.4xlarge",
    "vcpuNum": 16
   },
   {
    "_defaultOrder": 50,
    "_isFastLaunch": false,
    "category": "Accelerated computing",
    "gpuNum": 1,
    "hideHardwareSpecs": false,
    "memoryGiB": 128,
    "name": "ml.g5.8xlarge",
    "vcpuNum": 32
   },
   {
    "_defaultOrder": 51,
    "_isFastLaunch": false,
    "category": "Accelerated computing",
    "gpuNum": 1,
    "hideHardwareSpecs": false,
    "memoryGiB": 256,
    "name": "ml.g5.16xlarge",
    "vcpuNum": 64
   },
   {
    "_defaultOrder": 52,
    "_isFastLaunch": false,
    "category": "Accelerated computing",
    "gpuNum": 4,
    "hideHardwareSpecs": false,
    "memoryGiB": 192,
    "name": "ml.g5.12xlarge",
    "vcpuNum": 48
   },
   {
    "_defaultOrder": 53,
    "_isFastLaunch": false,
    "category": "Accelerated computing",
    "gpuNum": 4,
    "hideHardwareSpecs": false,
    "memoryGiB": 384,
    "name": "ml.g5.24xlarge",
    "vcpuNum": 96
   },
   {
    "_defaultOrder": 54,
    "_isFastLaunch": false,
    "category": "Accelerated computing",
    "gpuNum": 8,
    "hideHardwareSpecs": false,
    "memoryGiB": 768,
    "name": "ml.g5.48xlarge",
    "vcpuNum": 192
   },
   {
    "_defaultOrder": 55,
    "_isFastLaunch": false,
    "category": "Accelerated computing",
    "gpuNum": 8,
    "hideHardwareSpecs": false,
    "memoryGiB": 1152,
    "name": "ml.p4d.24xlarge",
    "vcpuNum": 96
   },
   {
    "_defaultOrder": 56,
    "_isFastLaunch": false,
    "category": "Accelerated computing",
    "gpuNum": 8,
    "hideHardwareSpecs": false,
    "memoryGiB": 1152,
    "name": "ml.p4de.24xlarge",
    "vcpuNum": 96
   }
  ],
  "instance_type": "ml.t3.medium",
  "kernelspec": {
   "display_name": "SparkMagic PySpark (SparkAnalytics 2.0)",
   "language": "python",
   "name": "conda-env-sm_sparkmagic-pysparkkernel__SAGEMAKER_INTERNAL__arn:aws:sagemaker:us-west-2:236514542706:image/sagemaker-sparkanalytics-310-v1"
  },
  "language_info": {
   "codemirror_mode": {
    "name": "python",
    "version": 3
   },
   "file_extension": ".py",
   "mimetype": "text/x-python",
   "name": "pyspark",
   "pygments_lexer": "python3"
  }
 },
 "nbformat": 4,
 "nbformat_minor": 5
}
